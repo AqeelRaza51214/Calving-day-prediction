{
 "cells": [
  {
   "cell_type": "markdown",
   "id": "18e842b9-09b1-47d9-811f-922956ddd45a",
   "metadata": {},
   "source": [
    "# Machine Learning Calving Day Prediction Final Version"
   ]
  },
  {
   "cell_type": "markdown",
   "id": "bc463543",
   "metadata": {},
   "source": [
    "# Libraries"
   ]
  },
  {
   "cell_type": "code",
   "execution_count": 1,
   "id": "a0f14e8f",
   "metadata": {},
   "outputs": [],
   "source": [
    "import pandas as pd \n",
    "import numpy as np \n",
    "import seaborn as sns \n",
    "import matplotlib.pyplot as plt \n",
    "import itertools \n",
    "import warnings \n",
    "warnings.filterwarnings(action='ignore')\n",
    "from datetime import datetime\n",
    "import os \n",
    "import re"
   ]
  },
  {
   "cell_type": "markdown",
   "id": "51e35184",
   "metadata": {},
   "source": [
    "## Loading dataset"
   ]
  },
  {
   "cell_type": "code",
   "execution_count": 2,
   "id": "f91e09df",
   "metadata": {},
   "outputs": [],
   "source": [
    "#Reading the dataset\n",
    "df = pd.read_csv(\"before_calving_data.csv\") "
   ]
  },
  {
   "cell_type": "markdown",
   "id": "68c11a64",
   "metadata": {},
   "source": [
    "## Basic coding"
   ]
  },
  {
   "cell_type": "code",
   "execution_count": 3,
   "id": "e6d2975c",
   "metadata": {},
   "outputs": [
    {
     "data": {
      "text/html": [
       "<div>\n",
       "<style scoped>\n",
       "    .dataframe tbody tr th:only-of-type {\n",
       "        vertical-align: middle;\n",
       "    }\n",
       "\n",
       "    .dataframe tbody tr th {\n",
       "        vertical-align: top;\n",
       "    }\n",
       "\n",
       "    .dataframe thead th {\n",
       "        text-align: right;\n",
       "    }\n",
       "</style>\n",
       "<table border=\"1\" class=\"dataframe\">\n",
       "  <thead>\n",
       "    <tr style=\"text-align: right;\">\n",
       "      <th></th>\n",
       "      <th>Date</th>\n",
       "      <th>Calving Date</th>\n",
       "      <th>Calving Time</th>\n",
       "      <th>Insemination Date</th>\n",
       "      <th>Days Pregnancy</th>\n",
       "      <th>Days Pregnancy 1</th>\n",
       "      <th>Expected Calving Days</th>\n",
       "      <th>Expected Calving Days 1</th>\n",
       "      <th>Heat Indicator</th>\n",
       "      <th>Cow ID</th>\n",
       "      <th>...</th>\n",
       "      <th>Activity</th>\n",
       "      <th>Rest Time</th>\n",
       "      <th>Rest Per Bout</th>\n",
       "      <th>Restlessness Ratio</th>\n",
       "      <th>Manner Of Calving</th>\n",
       "      <th>Offspring</th>\n",
       "      <th>Parity</th>\n",
       "      <th>Days Before Calving</th>\n",
       "      <th>Hours Before Calving</th>\n",
       "      <th>Calved</th>\n",
       "    </tr>\n",
       "  </thead>\n",
       "  <tbody>\n",
       "    <tr>\n",
       "      <th>0</th>\n",
       "      <td>12/10/2021</td>\n",
       "      <td>12/24/2021</td>\n",
       "      <td>8:04</td>\n",
       "      <td>3/16/2021</td>\n",
       "      <td>269</td>\n",
       "      <td>269.0</td>\n",
       "      <td>11</td>\n",
       "      <td>11</td>\n",
       "      <td>8</td>\n",
       "      <td>3</td>\n",
       "      <td>...</td>\n",
       "      <td>141</td>\n",
       "      <td>735</td>\n",
       "      <td>29</td>\n",
       "      <td>1.7</td>\n",
       "      <td>Normal</td>\n",
       "      <td>1</td>\n",
       "      <td>multiparous</td>\n",
       "      <td>-14</td>\n",
       "      <td>-360</td>\n",
       "      <td>0</td>\n",
       "    </tr>\n",
       "    <tr>\n",
       "      <th>1</th>\n",
       "      <td>12/11/2021</td>\n",
       "      <td>12/24/2021</td>\n",
       "      <td>8:04</td>\n",
       "      <td>3/16/2021</td>\n",
       "      <td>270</td>\n",
       "      <td>270.0</td>\n",
       "      <td>10</td>\n",
       "      <td>10</td>\n",
       "      <td>-2</td>\n",
       "      <td>3</td>\n",
       "      <td>...</td>\n",
       "      <td>131</td>\n",
       "      <td>827</td>\n",
       "      <td>32</td>\n",
       "      <td>1.5</td>\n",
       "      <td>Normal</td>\n",
       "      <td>1</td>\n",
       "      <td>multiparous</td>\n",
       "      <td>-13</td>\n",
       "      <td>-336</td>\n",
       "      <td>0</td>\n",
       "    </tr>\n",
       "    <tr>\n",
       "      <th>2</th>\n",
       "      <td>12/12/2021</td>\n",
       "      <td>12/24/2021</td>\n",
       "      <td>8:04</td>\n",
       "      <td>3/16/2021</td>\n",
       "      <td>271</td>\n",
       "      <td>271.0</td>\n",
       "      <td>9</td>\n",
       "      <td>9</td>\n",
       "      <td>8</td>\n",
       "      <td>3</td>\n",
       "      <td>...</td>\n",
       "      <td>144</td>\n",
       "      <td>660</td>\n",
       "      <td>31</td>\n",
       "      <td>2.1</td>\n",
       "      <td>Normal</td>\n",
       "      <td>1</td>\n",
       "      <td>multiparous</td>\n",
       "      <td>-12</td>\n",
       "      <td>-312</td>\n",
       "      <td>0</td>\n",
       "    </tr>\n",
       "    <tr>\n",
       "      <th>3</th>\n",
       "      <td>12/13/2021</td>\n",
       "      <td>12/24/2021</td>\n",
       "      <td>8:04</td>\n",
       "      <td>3/16/2021</td>\n",
       "      <td>272</td>\n",
       "      <td>272.0</td>\n",
       "      <td>8</td>\n",
       "      <td>8</td>\n",
       "      <td>-2</td>\n",
       "      <td>3</td>\n",
       "      <td>...</td>\n",
       "      <td>134</td>\n",
       "      <td>724</td>\n",
       "      <td>31</td>\n",
       "      <td>1.9</td>\n",
       "      <td>Normal</td>\n",
       "      <td>1</td>\n",
       "      <td>multiparous</td>\n",
       "      <td>-11</td>\n",
       "      <td>-264</td>\n",
       "      <td>0</td>\n",
       "    </tr>\n",
       "    <tr>\n",
       "      <th>4</th>\n",
       "      <td>12/14/2021</td>\n",
       "      <td>12/24/2021</td>\n",
       "      <td>8:04</td>\n",
       "      <td>3/16/2021</td>\n",
       "      <td>273</td>\n",
       "      <td>273.0</td>\n",
       "      <td>7</td>\n",
       "      <td>7</td>\n",
       "      <td>-6</td>\n",
       "      <td>3</td>\n",
       "      <td>...</td>\n",
       "      <td>129</td>\n",
       "      <td>742</td>\n",
       "      <td>31</td>\n",
       "      <td>1.9</td>\n",
       "      <td>Normal</td>\n",
       "      <td>1</td>\n",
       "      <td>multiparous</td>\n",
       "      <td>-10</td>\n",
       "      <td>-240</td>\n",
       "      <td>0</td>\n",
       "    </tr>\n",
       "  </tbody>\n",
       "</table>\n",
       "<p>5 rows × 25 columns</p>\n",
       "</div>"
      ],
      "text/plain": [
       "         Date Calving Date Calving Time Insemination Date  Days Pregnancy  \\\n",
       "0  12/10/2021   12/24/2021         8:04         3/16/2021             269   \n",
       "1  12/11/2021   12/24/2021         8:04         3/16/2021             270   \n",
       "2  12/12/2021   12/24/2021         8:04         3/16/2021             271   \n",
       "3  12/13/2021   12/24/2021         8:04         3/16/2021             272   \n",
       "4  12/14/2021   12/24/2021         8:04         3/16/2021             273   \n",
       "\n",
       "   Days Pregnancy 1  Expected Calving Days  Expected Calving Days 1  \\\n",
       "0             269.0                     11                       11   \n",
       "1             270.0                     10                       10   \n",
       "2             271.0                      9                        9   \n",
       "3             272.0                      8                        8   \n",
       "4             273.0                      7                        7   \n",
       "\n",
       "   Heat Indicator  Cow ID  ...  Activity Rest Time Rest Per Bout  \\\n",
       "0               8       3  ...       141       735            29   \n",
       "1              -2       3  ...       131       827            32   \n",
       "2               8       3  ...       144       660            31   \n",
       "3              -2       3  ...       134       724            31   \n",
       "4              -6       3  ...       129       742            31   \n",
       "\n",
       "   Restlessness Ratio  Manner Of Calving  Offspring       Parity  \\\n",
       "0                 1.7             Normal          1  multiparous   \n",
       "1                 1.5             Normal          1  multiparous   \n",
       "2                 2.1             Normal          1  multiparous   \n",
       "3                 1.9             Normal          1  multiparous   \n",
       "4                 1.9             Normal          1  multiparous   \n",
       "\n",
       "  Days Before Calving Hours Before Calving Calved  \n",
       "0                 -14                 -360      0  \n",
       "1                 -13                 -336      0  \n",
       "2                 -12                 -312      0  \n",
       "3                 -11                 -264      0  \n",
       "4                 -10                 -240      0  \n",
       "\n",
       "[5 rows x 25 columns]"
      ]
     },
     "execution_count": 3,
     "metadata": {},
     "output_type": "execute_result"
    }
   ],
   "source": [
    "#First five rows of dataset\n",
    "df.head() "
   ]
  },
  {
   "cell_type": "code",
   "execution_count": 4,
   "id": "b6c523df",
   "metadata": {},
   "outputs": [
    {
     "data": {
      "text/html": [
       "<div>\n",
       "<style scoped>\n",
       "    .dataframe tbody tr th:only-of-type {\n",
       "        vertical-align: middle;\n",
       "    }\n",
       "\n",
       "    .dataframe tbody tr th {\n",
       "        vertical-align: top;\n",
       "    }\n",
       "\n",
       "    .dataframe thead th {\n",
       "        text-align: right;\n",
       "    }\n",
       "</style>\n",
       "<table border=\"1\" class=\"dataframe\">\n",
       "  <thead>\n",
       "    <tr style=\"text-align: right;\">\n",
       "      <th></th>\n",
       "      <th>Date</th>\n",
       "      <th>Calving Date</th>\n",
       "      <th>Calving Time</th>\n",
       "      <th>Insemination Date</th>\n",
       "      <th>Days Pregnancy</th>\n",
       "      <th>Days Pregnancy 1</th>\n",
       "      <th>Expected Calving Days</th>\n",
       "      <th>Expected Calving Days 1</th>\n",
       "      <th>Heat Indicator</th>\n",
       "      <th>Cow ID</th>\n",
       "      <th>...</th>\n",
       "      <th>Activity</th>\n",
       "      <th>Rest Time</th>\n",
       "      <th>Rest Per Bout</th>\n",
       "      <th>Restlessness Ratio</th>\n",
       "      <th>Manner Of Calving</th>\n",
       "      <th>Offspring</th>\n",
       "      <th>Parity</th>\n",
       "      <th>Days Before Calving</th>\n",
       "      <th>Hours Before Calving</th>\n",
       "      <th>Calved</th>\n",
       "    </tr>\n",
       "  </thead>\n",
       "  <tbody>\n",
       "    <tr>\n",
       "      <th>4450</th>\n",
       "      <td>8/17/2022</td>\n",
       "      <td>8/21/2022</td>\n",
       "      <td>15:33</td>\n",
       "      <td>12/1/2021</td>\n",
       "      <td>259</td>\n",
       "      <td>259.0</td>\n",
       "      <td>21</td>\n",
       "      <td>21</td>\n",
       "      <td>-6</td>\n",
       "      <td>1744</td>\n",
       "      <td>...</td>\n",
       "      <td>200</td>\n",
       "      <td>463</td>\n",
       "      <td>77</td>\n",
       "      <td>4.8</td>\n",
       "      <td>Normal</td>\n",
       "      <td>1</td>\n",
       "      <td>primiparous</td>\n",
       "      <td>-4</td>\n",
       "      <td>-96</td>\n",
       "      <td>0</td>\n",
       "    </tr>\n",
       "    <tr>\n",
       "      <th>4451</th>\n",
       "      <td>8/18/2022</td>\n",
       "      <td>8/21/2022</td>\n",
       "      <td>15:33</td>\n",
       "      <td>12/1/2021</td>\n",
       "      <td>260</td>\n",
       "      <td>260.0</td>\n",
       "      <td>20</td>\n",
       "      <td>20</td>\n",
       "      <td>-1</td>\n",
       "      <td>1744</td>\n",
       "      <td>...</td>\n",
       "      <td>219</td>\n",
       "      <td>384</td>\n",
       "      <td>55</td>\n",
       "      <td>5.8</td>\n",
       "      <td>Normal</td>\n",
       "      <td>1</td>\n",
       "      <td>primiparous</td>\n",
       "      <td>-3</td>\n",
       "      <td>-72</td>\n",
       "      <td>0</td>\n",
       "    </tr>\n",
       "    <tr>\n",
       "      <th>4452</th>\n",
       "      <td>8/19/2022</td>\n",
       "      <td>8/21/2022</td>\n",
       "      <td>15:33</td>\n",
       "      <td>12/1/2021</td>\n",
       "      <td>261</td>\n",
       "      <td>261.0</td>\n",
       "      <td>19</td>\n",
       "      <td>19</td>\n",
       "      <td>-1</td>\n",
       "      <td>1744</td>\n",
       "      <td>...</td>\n",
       "      <td>214</td>\n",
       "      <td>454</td>\n",
       "      <td>76</td>\n",
       "      <td>4.1</td>\n",
       "      <td>Normal</td>\n",
       "      <td>1</td>\n",
       "      <td>primiparous</td>\n",
       "      <td>-2</td>\n",
       "      <td>-48</td>\n",
       "      <td>0</td>\n",
       "    </tr>\n",
       "    <tr>\n",
       "      <th>4453</th>\n",
       "      <td>8/20/2022</td>\n",
       "      <td>8/21/2022</td>\n",
       "      <td>15:33</td>\n",
       "      <td>12/1/2021</td>\n",
       "      <td>262</td>\n",
       "      <td>262.0</td>\n",
       "      <td>18</td>\n",
       "      <td>18</td>\n",
       "      <td>6</td>\n",
       "      <td>1744</td>\n",
       "      <td>...</td>\n",
       "      <td>229</td>\n",
       "      <td>471</td>\n",
       "      <td>52</td>\n",
       "      <td>4.4</td>\n",
       "      <td>Normal</td>\n",
       "      <td>1</td>\n",
       "      <td>primiparous</td>\n",
       "      <td>-1</td>\n",
       "      <td>-24</td>\n",
       "      <td>0</td>\n",
       "    </tr>\n",
       "    <tr>\n",
       "      <th>4454</th>\n",
       "      <td>8/21/2022</td>\n",
       "      <td>8/21/2022</td>\n",
       "      <td>15:33</td>\n",
       "      <td>12/1/2021</td>\n",
       "      <td>263</td>\n",
       "      <td>263.0</td>\n",
       "      <td>17</td>\n",
       "      <td>17</td>\n",
       "      <td>-1</td>\n",
       "      <td>1744</td>\n",
       "      <td>...</td>\n",
       "      <td>303</td>\n",
       "      <td>--</td>\n",
       "      <td>--</td>\n",
       "      <td>--</td>\n",
       "      <td>Normal</td>\n",
       "      <td>1</td>\n",
       "      <td>primiparous</td>\n",
       "      <td>0</td>\n",
       "      <td>0</td>\n",
       "      <td>1</td>\n",
       "    </tr>\n",
       "  </tbody>\n",
       "</table>\n",
       "<p>5 rows × 25 columns</p>\n",
       "</div>"
      ],
      "text/plain": [
       "           Date Calving Date Calving Time Insemination Date  Days Pregnancy  \\\n",
       "4450  8/17/2022    8/21/2022        15:33         12/1/2021             259   \n",
       "4451  8/18/2022    8/21/2022        15:33         12/1/2021             260   \n",
       "4452  8/19/2022    8/21/2022        15:33         12/1/2021             261   \n",
       "4453  8/20/2022    8/21/2022        15:33         12/1/2021             262   \n",
       "4454  8/21/2022    8/21/2022        15:33         12/1/2021             263   \n",
       "\n",
       "      Days Pregnancy 1  Expected Calving Days  Expected Calving Days 1  \\\n",
       "4450             259.0                     21                       21   \n",
       "4451             260.0                     20                       20   \n",
       "4452             261.0                     19                       19   \n",
       "4453             262.0                     18                       18   \n",
       "4454             263.0                     17                       17   \n",
       "\n",
       "      Heat Indicator  Cow ID  ...  Activity Rest Time Rest Per Bout  \\\n",
       "4450              -6    1744  ...       200       463            77   \n",
       "4451              -1    1744  ...       219       384            55   \n",
       "4452              -1    1744  ...       214       454            76   \n",
       "4453               6    1744  ...       229       471            52   \n",
       "4454              -1    1744  ...       303      --        --         \n",
       "\n",
       "      Restlessness Ratio  Manner Of Calving  Offspring       Parity  \\\n",
       "4450                 4.8             Normal          1  primiparous   \n",
       "4451                 5.8             Normal          1  primiparous   \n",
       "4452                 4.1             Normal          1  primiparous   \n",
       "4453                 4.4             Normal          1  primiparous   \n",
       "4454                --               Normal          1  primiparous   \n",
       "\n",
       "     Days Before Calving Hours Before Calving Calved  \n",
       "4450                  -4                  -96      0  \n",
       "4451                  -3                  -72      0  \n",
       "4452                  -2                  -48      0  \n",
       "4453                  -1                  -24      0  \n",
       "4454                   0                    0      1  \n",
       "\n",
       "[5 rows x 25 columns]"
      ]
     },
     "execution_count": 4,
     "metadata": {},
     "output_type": "execute_result"
    }
   ],
   "source": [
    "#last five rows of the dataset\n",
    "df.tail() "
   ]
  },
  {
   "cell_type": "code",
   "execution_count": 5,
   "id": "9577a37f",
   "metadata": {},
   "outputs": [
    {
     "data": {
      "text/plain": [
       "(4455, 25)"
      ]
     },
     "execution_count": 5,
     "metadata": {},
     "output_type": "execute_result"
    }
   ],
   "source": [
    "#Shape of dataset 4455 rows & 25 columns\n",
    "df.shape "
   ]
  },
  {
   "cell_type": "code",
   "execution_count": 6,
   "id": "aec433be",
   "metadata": {},
   "outputs": [
    {
     "data": {
      "text/html": [
       "<div>\n",
       "<style scoped>\n",
       "    .dataframe tbody tr th:only-of-type {\n",
       "        vertical-align: middle;\n",
       "    }\n",
       "\n",
       "    .dataframe tbody tr th {\n",
       "        vertical-align: top;\n",
       "    }\n",
       "\n",
       "    .dataframe thead th {\n",
       "        text-align: right;\n",
       "    }\n",
       "</style>\n",
       "<table border=\"1\" class=\"dataframe\">\n",
       "  <thead>\n",
       "    <tr style=\"text-align: right;\">\n",
       "      <th></th>\n",
       "      <th>Days Pregnancy</th>\n",
       "      <th>Days Pregnancy 1</th>\n",
       "      <th>Expected Calving Days</th>\n",
       "      <th>Expected Calving Days 1</th>\n",
       "      <th>Heat Indicator</th>\n",
       "      <th>Cow ID</th>\n",
       "      <th>Month Of Sensor Attachment</th>\n",
       "      <th>Lact No</th>\n",
       "      <th>Lactation No</th>\n",
       "      <th>Activity</th>\n",
       "      <th>Offspring</th>\n",
       "      <th>Days Before Calving</th>\n",
       "      <th>Hours Before Calving</th>\n",
       "      <th>Calved</th>\n",
       "    </tr>\n",
       "  </thead>\n",
       "  <tbody>\n",
       "    <tr>\n",
       "      <th>count</th>\n",
       "      <td>4455.000000</td>\n",
       "      <td>2842.000000</td>\n",
       "      <td>4455.000000</td>\n",
       "      <td>4455.000000</td>\n",
       "      <td>4455.000000</td>\n",
       "      <td>4455.000000</td>\n",
       "      <td>4455.000000</td>\n",
       "      <td>4455.000000</td>\n",
       "      <td>4455.000000</td>\n",
       "      <td>4455.000000</td>\n",
       "      <td>4455.000000</td>\n",
       "      <td>4455.000000</td>\n",
       "      <td>4455.000000</td>\n",
       "      <td>4455.000000</td>\n",
       "    </tr>\n",
       "    <tr>\n",
       "      <th>mean</th>\n",
       "      <td>278.542312</td>\n",
       "      <td>265.305067</td>\n",
       "      <td>1.457688</td>\n",
       "      <td>9.437262</td>\n",
       "      <td>7.832099</td>\n",
       "      <td>1135.787879</td>\n",
       "      <td>6.165208</td>\n",
       "      <td>1.502581</td>\n",
       "      <td>1.485746</td>\n",
       "      <td>201.404714</td>\n",
       "      <td>1.010101</td>\n",
       "      <td>-7.000000</td>\n",
       "      <td>-172.800000</td>\n",
       "      <td>0.066442</td>\n",
       "    </tr>\n",
       "    <tr>\n",
       "      <th>std</th>\n",
       "      <td>28.535091</td>\n",
       "      <td>13.547477</td>\n",
       "      <td>28.535091</td>\n",
       "      <td>13.541619</td>\n",
       "      <td>34.380189</td>\n",
       "      <td>2248.679313</td>\n",
       "      <td>3.831850</td>\n",
       "      <td>0.757498</td>\n",
       "      <td>0.711514</td>\n",
       "      <td>77.944668</td>\n",
       "      <td>0.100006</td>\n",
       "      <td>4.320979</td>\n",
       "      <td>110.586188</td>\n",
       "      <td>0.249081</td>\n",
       "    </tr>\n",
       "    <tr>\n",
       "      <th>min</th>\n",
       "      <td>203.000000</td>\n",
       "      <td>203.000000</td>\n",
       "      <td>-220.000000</td>\n",
       "      <td>0.000000</td>\n",
       "      <td>-61.000000</td>\n",
       "      <td>3.000000</td>\n",
       "      <td>1.000000</td>\n",
       "      <td>1.000000</td>\n",
       "      <td>1.000000</td>\n",
       "      <td>54.000000</td>\n",
       "      <td>1.000000</td>\n",
       "      <td>-14.000000</td>\n",
       "      <td>-360.000000</td>\n",
       "      <td>0.000000</td>\n",
       "    </tr>\n",
       "    <tr>\n",
       "      <th>25%</th>\n",
       "      <td>266.000000</td>\n",
       "      <td>261.000000</td>\n",
       "      <td>-7.000000</td>\n",
       "      <td>0.000000</td>\n",
       "      <td>-12.000000</td>\n",
       "      <td>725.000000</td>\n",
       "      <td>3.000000</td>\n",
       "      <td>1.000000</td>\n",
       "      <td>1.000000</td>\n",
       "      <td>153.000000</td>\n",
       "      <td>1.000000</td>\n",
       "      <td>-11.000000</td>\n",
       "      <td>-264.000000</td>\n",
       "      <td>0.000000</td>\n",
       "    </tr>\n",
       "    <tr>\n",
       "      <th>50%</th>\n",
       "      <td>275.000000</td>\n",
       "      <td>269.000000</td>\n",
       "      <td>5.000000</td>\n",
       "      <td>5.000000</td>\n",
       "      <td>2.000000</td>\n",
       "      <td>1039.000000</td>\n",
       "      <td>5.000000</td>\n",
       "      <td>1.000000</td>\n",
       "      <td>1.000000</td>\n",
       "      <td>185.000000</td>\n",
       "      <td>1.000000</td>\n",
       "      <td>-7.000000</td>\n",
       "      <td>-168.000000</td>\n",
       "      <td>0.000000</td>\n",
       "    </tr>\n",
       "    <tr>\n",
       "      <th>75%</th>\n",
       "      <td>287.000000</td>\n",
       "      <td>275.000000</td>\n",
       "      <td>14.000000</td>\n",
       "      <td>14.000000</td>\n",
       "      <td>18.000000</td>\n",
       "      <td>1617.000000</td>\n",
       "      <td>10.000000</td>\n",
       "      <td>2.000000</td>\n",
       "      <td>2.000000</td>\n",
       "      <td>230.000000</td>\n",
       "      <td>1.000000</td>\n",
       "      <td>-3.000000</td>\n",
       "      <td>-72.000000</td>\n",
       "      <td>0.000000</td>\n",
       "    </tr>\n",
       "    <tr>\n",
       "      <th>max</th>\n",
       "      <td>500.000000</td>\n",
       "      <td>280.000000</td>\n",
       "      <td>77.000000</td>\n",
       "      <td>280.000000</td>\n",
       "      <td>824.000000</td>\n",
       "      <td>38656.000000</td>\n",
       "      <td>12.000000</td>\n",
       "      <td>4.000000</td>\n",
       "      <td>3.000000</td>\n",
       "      <td>1369.000000</td>\n",
       "      <td>2.000000</td>\n",
       "      <td>0.000000</td>\n",
       "      <td>0.000000</td>\n",
       "      <td>1.000000</td>\n",
       "    </tr>\n",
       "  </tbody>\n",
       "</table>\n",
       "</div>"
      ],
      "text/plain": [
       "       Days Pregnancy  Days Pregnancy 1  Expected Calving Days  \\\n",
       "count     4455.000000       2842.000000            4455.000000   \n",
       "mean       278.542312        265.305067               1.457688   \n",
       "std         28.535091         13.547477              28.535091   \n",
       "min        203.000000        203.000000            -220.000000   \n",
       "25%        266.000000        261.000000              -7.000000   \n",
       "50%        275.000000        269.000000               5.000000   \n",
       "75%        287.000000        275.000000              14.000000   \n",
       "max        500.000000        280.000000              77.000000   \n",
       "\n",
       "       Expected Calving Days 1  Heat Indicator        Cow ID  \\\n",
       "count              4455.000000     4455.000000   4455.000000   \n",
       "mean                  9.437262        7.832099   1135.787879   \n",
       "std                  13.541619       34.380189   2248.679313   \n",
       "min                   0.000000      -61.000000      3.000000   \n",
       "25%                   0.000000      -12.000000    725.000000   \n",
       "50%                   5.000000        2.000000   1039.000000   \n",
       "75%                  14.000000       18.000000   1617.000000   \n",
       "max                 280.000000      824.000000  38656.000000   \n",
       "\n",
       "       Month Of Sensor Attachment      Lact No  Lactation No     Activity  \\\n",
       "count                 4455.000000  4455.000000   4455.000000  4455.000000   \n",
       "mean                     6.165208     1.502581      1.485746   201.404714   \n",
       "std                      3.831850     0.757498      0.711514    77.944668   \n",
       "min                      1.000000     1.000000      1.000000    54.000000   \n",
       "25%                      3.000000     1.000000      1.000000   153.000000   \n",
       "50%                      5.000000     1.000000      1.000000   185.000000   \n",
       "75%                     10.000000     2.000000      2.000000   230.000000   \n",
       "max                     12.000000     4.000000      3.000000  1369.000000   \n",
       "\n",
       "         Offspring  Days Before Calving  Hours Before Calving       Calved  \n",
       "count  4455.000000          4455.000000           4455.000000  4455.000000  \n",
       "mean      1.010101            -7.000000           -172.800000     0.066442  \n",
       "std       0.100006             4.320979            110.586188     0.249081  \n",
       "min       1.000000           -14.000000           -360.000000     0.000000  \n",
       "25%       1.000000           -11.000000           -264.000000     0.000000  \n",
       "50%       1.000000            -7.000000           -168.000000     0.000000  \n",
       "75%       1.000000            -3.000000            -72.000000     0.000000  \n",
       "max       2.000000             0.000000              0.000000     1.000000  "
      ]
     },
     "execution_count": 6,
     "metadata": {},
     "output_type": "execute_result"
    }
   ],
   "source": [
    "#Short statistical summary of dataset\n",
    "df.describe() "
   ]
  },
  {
   "cell_type": "code",
   "execution_count": 7,
   "id": "f9cc1c60",
   "metadata": {},
   "outputs": [
    {
     "data": {
      "text/plain": [
       "Date                           object\n",
       "Calving Date                   object\n",
       "Calving Time                   object\n",
       "Insemination Date              object\n",
       "Days Pregnancy                  int64\n",
       "Days Pregnancy 1              float64\n",
       "Expected Calving Days           int64\n",
       "Expected Calving Days 1         int64\n",
       "Heat Indicator                  int64\n",
       "Cow ID                          int64\n",
       "Month Of Sensor Attachment      int64\n",
       "Calving Season                 object\n",
       "Breed                          object\n",
       "Lact No                         int64\n",
       "Lactation No                    int64\n",
       "Activity                        int64\n",
       "Rest Time                      object\n",
       "Rest Per Bout                  object\n",
       "Restlessness Ratio             object\n",
       "Manner Of Calving              object\n",
       "Offspring                       int64\n",
       "Parity                         object\n",
       "Days Before Calving             int64\n",
       "Hours Before Calving            int64\n",
       "Calved                          int64\n",
       "dtype: object"
      ]
     },
     "execution_count": 7,
     "metadata": {},
     "output_type": "execute_result"
    }
   ],
   "source": [
    "#Data type of dataset\n",
    "df.dtypes "
   ]
  },
  {
   "cell_type": "markdown",
   "id": "d7345d63",
   "metadata": {},
   "source": [
    "# Cleaning section"
   ]
  },
  {
   "cell_type": "code",
   "execution_count": 8,
   "id": "d5dfb2d2",
   "metadata": {},
   "outputs": [],
   "source": [
    "#Replacing \"--\" values and converting into string\n",
    "df = df.replace(\"\\--\", \" \", regex=True).astype('str') "
   ]
  },
  {
   "cell_type": "code",
   "execution_count": 9,
   "id": "33506a38",
   "metadata": {},
   "outputs": [],
   "source": [
    "#Replacing string format into nan values \n",
    "df = df.replace(r'^\\s*$', np.nan, regex=True)"
   ]
  },
  {
   "cell_type": "code",
   "execution_count": 10,
   "id": "c70d4155",
   "metadata": {},
   "outputs": [
    {
     "data": {
      "text/plain": [
       "Restlessness Ratio            2\n",
       "Rest Per Bout                 2\n",
       "Rest Time                     2\n",
       "Date                          0\n",
       "Lact No                       0\n",
       "Hours Before Calving          0\n",
       "Days Before Calving           0\n",
       "Parity                        0\n",
       "Offspring                     0\n",
       "Manner Of Calving             0\n",
       "Activity                      0\n",
       "Lactation No                  0\n",
       "Breed                         0\n",
       "Calving Date                  0\n",
       "Calving Season                0\n",
       "Month Of Sensor Attachment    0\n",
       "Cow ID                        0\n",
       "Heat Indicator                0\n",
       "Expected Calving Days 1       0\n",
       "Expected Calving Days         0\n",
       "Days Pregnancy 1              0\n",
       "Days Pregnancy                0\n",
       "Insemination Date             0\n",
       "Calving Time                  0\n",
       "Calved                        0\n",
       "dtype: int64"
      ]
     },
     "execution_count": 10,
     "metadata": {},
     "output_type": "execute_result"
    }
   ],
   "source": [
    "#Missing values inside the dataset\n",
    "df.isnull().sum().sort_values(ascending=False) "
   ]
  },
  {
   "cell_type": "markdown",
   "id": "31d997ee",
   "metadata": {},
   "source": [
    "## Visualization of missing values"
   ]
  },
  {
   "cell_type": "code",
   "execution_count": 11,
   "id": "b96a6216",
   "metadata": {},
   "outputs": [
    {
     "data": {
      "image/png": "[encoded data removed]",
      "text/plain": [
       "<Figure size 576x360 with 1 Axes>"
      ]
     },
     "metadata": {},
     "output_type": "display_data"
    }
   ],
   "source": [
    "#Setting the background style for chart\n",
    "sns.set_style('white')\n",
    "#Setting the figure size\n",
    "sns.set(rc={'figure.figsize':(8,5)})\n",
    "#Generating the heatmap to check the NAN values inside the dataset\n",
    "sns.heatmap(df.isnull(), cbar=False, yticklabels=False, cmap='viridis')\n",
    "#Setting the x ticks for chart\n",
    "plt.xticks(fontsize=10, rotation='vertical')\n",
    "#Show the chart\n",
    "plt.show()"
   ]
  },
  {
   "cell_type": "code",
   "execution_count": 12,
   "id": "24249e71-a6ef-4fcb-b9dc-d22b7488f2bf",
   "metadata": {},
   "outputs": [
    {
     "data": {
      "text/plain": [
       "Date                          0\n",
       "Days Before Calving           0\n",
       "Parity                        0\n",
       "Offspring                     0\n",
       "Manner Of Calving             0\n",
       "Activity                      0\n",
       "Lactation No                  0\n",
       "Lact No                       0\n",
       "Hours Before Calving          0\n",
       "Calving Season                0\n",
       "Breed                         0\n",
       "Cow ID                        0\n",
       "Heat Indicator                0\n",
       "Expected Calving Days 1       0\n",
       "Expected Calving Days         0\n",
       "Days Pregnancy 1              0\n",
       "Days Pregnancy                0\n",
       "Insemination Date             0\n",
       "Calving Time                  0\n",
       "Calving Date                  0\n",
       "Month Of Sensor Attachment    0\n",
       "Calved                        0\n",
       "Rest Time                     2\n",
       "Rest Per Bout                 2\n",
       "Restlessness Ratio            2\n",
       "dtype: int64"
      ]
     },
     "execution_count": 12,
     "metadata": {},
     "output_type": "execute_result"
    }
   ],
   "source": [
    "#Checking missing values inside the dataset\n",
    "df.isnull().sum().sort_values(ascending=True)"
   ]
  },
  {
   "cell_type": "markdown",
   "id": "830e98a5",
   "metadata": {},
   "source": [
    "## Imputation of missing values through itterative imputation technique"
   ]
  },
  {
   "cell_type": "markdown",
   "id": "fafdd457",
   "metadata": {},
   "source": [
    "### Libraries"
   ]
  },
  {
   "cell_type": "code",
   "execution_count": 13,
   "id": "e093246c",
   "metadata": {},
   "outputs": [],
   "source": [
    "#Importing libraries\n",
    "from sklearn.experimental import enable_iterative_imputer\n",
    "from sklearn.impute import IterativeImputer \n",
    "from sklearn.impute import SimpleImputer \n",
    "from sklearn.ensemble import RandomForestRegressor "
   ]
  },
  {
   "cell_type": "code",
   "execution_count": 14,
   "id": "47402cda",
   "metadata": {},
   "outputs": [],
   "source": [
    "#Variables containing NAN values\n",
    "columns_with_missing_values = ['Rest Time', 'Rest Per Bout', 'Restlessness Ratio']\n",
    "\n",
    "#Creating multiple imputation techniques to impute columns with missing values\n",
    "imputer_mice = IterativeImputer(estimator=RandomForestRegressor(), random_state=0)\n",
    "df[columns_with_missing_values] = imputer_mice.fit_transform(df[columns_with_missing_values])"
   ]
  },
  {
   "cell_type": "code",
   "execution_count": 15,
   "id": "92bf83a0",
   "metadata": {},
   "outputs": [
    {
     "data": {
      "text/plain": [
       "Date                          0\n",
       "Days Before Calving           0\n",
       "Parity                        0\n",
       "Offspring                     0\n",
       "Manner Of Calving             0\n",
       "Restlessness Ratio            0\n",
       "Rest Per Bout                 0\n",
       "Rest Time                     0\n",
       "Activity                      0\n",
       "Lactation No                  0\n",
       "Lact No                       0\n",
       "Hours Before Calving          0\n",
       "Breed                         0\n",
       "Month Of Sensor Attachment    0\n",
       "Cow ID                        0\n",
       "Heat Indicator                0\n",
       "Expected Calving Days 1       0\n",
       "Expected Calving Days         0\n",
       "Days Pregnancy 1              0\n",
       "Days Pregnancy                0\n",
       "Insemination Date             0\n",
       "Calving Time                  0\n",
       "Calving Date                  0\n",
       "Calving Season                0\n",
       "Calved                        0\n",
       "dtype: int64"
      ]
     },
     "execution_count": 15,
     "metadata": {},
     "output_type": "execute_result"
    }
   ],
   "source": [
    "#Verfying the missing values after imputating of missing values through iterative imputer\n",
    "df.isnull().sum().sort_values() "
   ]
  },
  {
   "cell_type": "markdown",
   "id": "23bb8733-3e9d-4b35-8b1e-453685390ed7",
   "metadata": {},
   "source": [
    "# Saving cleaned dataset"
   ]
  },
  {
   "cell_type": "code",
   "execution_count": 16,
   "id": "308b3a2c-03b1-43af-a2a9-1d4d16f41145",
   "metadata": {},
   "outputs": [],
   "source": [
    "#Saving the clean data set \n",
    "df.to_csv('before_calving_clean_data.csv', index=False)"
   ]
  },
  {
   "cell_type": "markdown",
   "id": "2feaa84b-034a-4942-b86d-8a2e8323b3bc",
   "metadata": {},
   "source": [
    "# Reloading dataset"
   ]
  },
  {
   "cell_type": "code",
   "execution_count": 17,
   "id": "e199ce7a-186e-4a23-8864-9629e8db1d2a",
   "metadata": {},
   "outputs": [],
   "source": [
    "#Reloading the clean dataset\n",
    "df = pd.read_csv('before_calving_clean_data.csv')"
   ]
  },
  {
   "cell_type": "code",
   "execution_count": 18,
   "id": "d3c24603-844f-446e-bed8-4ce7c4a5851a",
   "metadata": {},
   "outputs": [
    {
     "data": {
      "text/html": [
       "<div>\n",
       "<style scoped>\n",
       "    .dataframe tbody tr th:only-of-type {\n",
       "        vertical-align: middle;\n",
       "    }\n",
       "\n",
       "    .dataframe tbody tr th {\n",
       "        vertical-align: top;\n",
       "    }\n",
       "\n",
       "    .dataframe thead th {\n",
       "        text-align: right;\n",
       "    }\n",
       "</style>\n",
       "<table border=\"1\" class=\"dataframe\">\n",
       "  <thead>\n",
       "    <tr style=\"text-align: right;\">\n",
       "      <th></th>\n",
       "      <th>Date</th>\n",
       "      <th>Calving Date</th>\n",
       "      <th>Calving Time</th>\n",
       "      <th>Insemination Date</th>\n",
       "      <th>Days Pregnancy</th>\n",
       "      <th>Days Pregnancy 1</th>\n",
       "      <th>Expected Calving Days</th>\n",
       "      <th>Expected Calving Days 1</th>\n",
       "      <th>Heat Indicator</th>\n",
       "      <th>Cow ID</th>\n",
       "      <th>...</th>\n",
       "      <th>Activity</th>\n",
       "      <th>Rest Time</th>\n",
       "      <th>Rest Per Bout</th>\n",
       "      <th>Restlessness Ratio</th>\n",
       "      <th>Manner Of Calving</th>\n",
       "      <th>Offspring</th>\n",
       "      <th>Parity</th>\n",
       "      <th>Days Before Calving</th>\n",
       "      <th>Hours Before Calving</th>\n",
       "      <th>Calved</th>\n",
       "    </tr>\n",
       "  </thead>\n",
       "  <tbody>\n",
       "    <tr>\n",
       "      <th>0</th>\n",
       "      <td>12/10/2021</td>\n",
       "      <td>12/24/2021</td>\n",
       "      <td>8:04</td>\n",
       "      <td>3/16/2021</td>\n",
       "      <td>269</td>\n",
       "      <td>269.0</td>\n",
       "      <td>11</td>\n",
       "      <td>11</td>\n",
       "      <td>8</td>\n",
       "      <td>3</td>\n",
       "      <td>...</td>\n",
       "      <td>141</td>\n",
       "      <td>735.0</td>\n",
       "      <td>29.0</td>\n",
       "      <td>1.7</td>\n",
       "      <td>Normal</td>\n",
       "      <td>1</td>\n",
       "      <td>multiparous</td>\n",
       "      <td>-14</td>\n",
       "      <td>-360</td>\n",
       "      <td>0</td>\n",
       "    </tr>\n",
       "    <tr>\n",
       "      <th>1</th>\n",
       "      <td>12/11/2021</td>\n",
       "      <td>12/24/2021</td>\n",
       "      <td>8:04</td>\n",
       "      <td>3/16/2021</td>\n",
       "      <td>270</td>\n",
       "      <td>270.0</td>\n",
       "      <td>10</td>\n",
       "      <td>10</td>\n",
       "      <td>-2</td>\n",
       "      <td>3</td>\n",
       "      <td>...</td>\n",
       "      <td>131</td>\n",
       "      <td>827.0</td>\n",
       "      <td>32.0</td>\n",
       "      <td>1.5</td>\n",
       "      <td>Normal</td>\n",
       "      <td>1</td>\n",
       "      <td>multiparous</td>\n",
       "      <td>-13</td>\n",
       "      <td>-336</td>\n",
       "      <td>0</td>\n",
       "    </tr>\n",
       "    <tr>\n",
       "      <th>2</th>\n",
       "      <td>12/12/2021</td>\n",
       "      <td>12/24/2021</td>\n",
       "      <td>8:04</td>\n",
       "      <td>3/16/2021</td>\n",
       "      <td>271</td>\n",
       "      <td>271.0</td>\n",
       "      <td>9</td>\n",
       "      <td>9</td>\n",
       "      <td>8</td>\n",
       "      <td>3</td>\n",
       "      <td>...</td>\n",
       "      <td>144</td>\n",
       "      <td>660.0</td>\n",
       "      <td>31.0</td>\n",
       "      <td>2.1</td>\n",
       "      <td>Normal</td>\n",
       "      <td>1</td>\n",
       "      <td>multiparous</td>\n",
       "      <td>-12</td>\n",
       "      <td>-312</td>\n",
       "      <td>0</td>\n",
       "    </tr>\n",
       "    <tr>\n",
       "      <th>3</th>\n",
       "      <td>12/13/2021</td>\n",
       "      <td>12/24/2021</td>\n",
       "      <td>8:04</td>\n",
       "      <td>3/16/2021</td>\n",
       "      <td>272</td>\n",
       "      <td>272.0</td>\n",
       "      <td>8</td>\n",
       "      <td>8</td>\n",
       "      <td>-2</td>\n",
       "      <td>3</td>\n",
       "      <td>...</td>\n",
       "      <td>134</td>\n",
       "      <td>724.0</td>\n",
       "      <td>31.0</td>\n",
       "      <td>1.9</td>\n",
       "      <td>Normal</td>\n",
       "      <td>1</td>\n",
       "      <td>multiparous</td>\n",
       "      <td>-11</td>\n",
       "      <td>-264</td>\n",
       "      <td>0</td>\n",
       "    </tr>\n",
       "    <tr>\n",
       "      <th>4</th>\n",
       "      <td>12/14/2021</td>\n",
       "      <td>12/24/2021</td>\n",
       "      <td>8:04</td>\n",
       "      <td>3/16/2021</td>\n",
       "      <td>273</td>\n",
       "      <td>273.0</td>\n",
       "      <td>7</td>\n",
       "      <td>7</td>\n",
       "      <td>-6</td>\n",
       "      <td>3</td>\n",
       "      <td>...</td>\n",
       "      <td>129</td>\n",
       "      <td>742.0</td>\n",
       "      <td>31.0</td>\n",
       "      <td>1.9</td>\n",
       "      <td>Normal</td>\n",
       "      <td>1</td>\n",
       "      <td>multiparous</td>\n",
       "      <td>-10</td>\n",
       "      <td>-240</td>\n",
       "      <td>0</td>\n",
       "    </tr>\n",
       "  </tbody>\n",
       "</table>\n",
       "<p>5 rows × 25 columns</p>\n",
       "</div>"
      ],
      "text/plain": [
       "         Date Calving Date Calving Time Insemination Date  Days Pregnancy  \\\n",
       "0  12/10/2021   12/24/2021         8:04         3/16/2021             269   \n",
       "1  12/11/2021   12/24/2021         8:04         3/16/2021             270   \n",
       "2  12/12/2021   12/24/2021         8:04         3/16/2021             271   \n",
       "3  12/13/2021   12/24/2021         8:04         3/16/2021             272   \n",
       "4  12/14/2021   12/24/2021         8:04         3/16/2021             273   \n",
       "\n",
       "   Days Pregnancy 1  Expected Calving Days  Expected Calving Days 1  \\\n",
       "0             269.0                     11                       11   \n",
       "1             270.0                     10                       10   \n",
       "2             271.0                      9                        9   \n",
       "3             272.0                      8                        8   \n",
       "4             273.0                      7                        7   \n",
       "\n",
       "   Heat Indicator  Cow ID  ...  Activity Rest Time Rest Per Bout  \\\n",
       "0               8       3  ...       141     735.0          29.0   \n",
       "1              -2       3  ...       131     827.0          32.0   \n",
       "2               8       3  ...       144     660.0          31.0   \n",
       "3              -2       3  ...       134     724.0          31.0   \n",
       "4              -6       3  ...       129     742.0          31.0   \n",
       "\n",
       "   Restlessness Ratio  Manner Of Calving  Offspring       Parity  \\\n",
       "0                 1.7             Normal          1  multiparous   \n",
       "1                 1.5             Normal          1  multiparous   \n",
       "2                 2.1             Normal          1  multiparous   \n",
       "3                 1.9             Normal          1  multiparous   \n",
       "4                 1.9             Normal          1  multiparous   \n",
       "\n",
       "   Days Before Calving  Hours Before Calving Calved  \n",
       "0                  -14                  -360      0  \n",
       "1                  -13                  -336      0  \n",
       "2                  -12                  -312      0  \n",
       "3                  -11                  -264      0  \n",
       "4                  -10                  -240      0  \n",
       "\n",
       "[5 rows x 25 columns]"
      ]
     },
     "execution_count": 18,
     "metadata": {},
     "output_type": "execute_result"
    }
   ],
   "source": [
    "#Reading First five rows of the dataset\n",
    "df.head()"
   ]
  },
  {
   "cell_type": "code",
   "execution_count": 19,
   "id": "9875f696-8242-4ea0-843a-b8a14f02d4ac",
   "metadata": {},
   "outputs": [
    {
     "data": {
      "text/plain": [
       "Index(['Date', 'Calving Date', 'Calving Time', 'Insemination Date',\n",
       "       'Days Pregnancy', 'Days Pregnancy 1', 'Expected Calving Days',\n",
       "       'Expected Calving Days 1', 'Heat Indicator', 'Cow ID',\n",
       "       'Month Of Sensor Attachment', 'Calving Season', 'Breed', 'Lact No',\n",
       "       'Lactation No', 'Activity', 'Rest Time', 'Rest Per Bout',\n",
       "       'Restlessness Ratio', 'Manner Of Calving', 'Offspring', 'Parity',\n",
       "       'Days Before Calving', 'Hours Before Calving', 'Calved'],\n",
       "      dtype='object')"
      ]
     },
     "execution_count": 19,
     "metadata": {},
     "output_type": "execute_result"
    }
   ],
   "source": [
    "#Checking the columns inside the dataset\n",
    "df.columns"
   ]
  },
  {
   "cell_type": "markdown",
   "id": "9697eee7",
   "metadata": {},
   "source": [
    "## Conversion of data types into proper data types"
   ]
  },
  {
   "cell_type": "code",
   "execution_count": 20,
   "id": "6d8ea051",
   "metadata": {},
   "outputs": [],
   "source": [
    "#Conversion of data types into proper data type\n",
    "df['Date'] = pd.to_datetime(df['Date'])\n",
    "df['date'] = df['Date'].astype('datetime64[ns]')\n",
    "df['Calving Date'] = pd.to_datetime(df['Calving Date'])\n",
    "df['Calving Date'] = df['Calving Date'].astype('datetime64[ns]')\n",
    "df['Insemination Date'] = pd.to_datetime(df['Insemination Date'])\n",
    "df['Insemination Date'] = pd.to_datetime(df['Insemination Date'])\n",
    "df['Days Pregnancy'] = df['Days Pregnancy'].astype('int64')\n",
    "df['Heat Indicator'] = df['Heat Indicator'].astype('int64')\n",
    "df['Activity'] = df['Activity'].astype('int64')\n",
    "df['Rest Time'] = df['Rest Time'].astype('int64')\n",
    "df['Rest Per Bout'] = df['Rest Per Bout'].astype('int64')\n",
    "df['Restlessness Ratio'] = df['Restlessness Ratio'].astype('float64')\n",
    "df['Offspring'] = df['Offspring'].astype('int64')\n",
    "df['Calved'] = df['Calved'].astype('int64')\n",
    "df['Hours Before Calving'] = df['Hours Before Calving'].astype('int64')\n",
    "df['Days Before Calving'] = df['Days Before Calving'].astype('int64')\n",
    "df['Cow ID'] = df['Cow ID'].astype('int64')\n",
    "df['Expected Calving Days'] = df['Expected Calving Days'].astype('int64')\n",
    "df['Expected Calving Days 1'] = df['Expected Calving Days 1'].astype('int64')\n",
    "df['Month Of Sensor Attachment'] = df['Month Of Sensor Attachment'].astype('int64')\n",
    "df['Lact No'] = df['Lact No'].astype('object')\n",
    "df['Lactation No'] = df['Lactation No'].astype('object')\n",
    "df['Days Pregnancy 1'] = df['Days Pregnancy 1'].astype('object')"
   ]
  },
  {
   "cell_type": "code",
   "execution_count": 21,
   "id": "00efadf5",
   "metadata": {},
   "outputs": [
    {
     "data": {
      "text/plain": [
       "Date                          datetime64[ns]\n",
       "Calving Date                  datetime64[ns]\n",
       "Calving Time                          object\n",
       "Insemination Date             datetime64[ns]\n",
       "Days Pregnancy                         int64\n",
       "Days Pregnancy 1                      object\n",
       "Expected Calving Days                  int64\n",
       "Expected Calving Days 1                int64\n",
       "Heat Indicator                         int64\n",
       "Cow ID                                 int64\n",
       "Month Of Sensor Attachment             int64\n",
       "Calving Season                        object\n",
       "Breed                                 object\n",
       "Lact No                               object\n",
       "Lactation No                          object\n",
       "Activity                               int64\n",
       "Rest Time                              int64\n",
       "Rest Per Bout                          int64\n",
       "Restlessness Ratio                   float64\n",
       "Manner Of Calving                     object\n",
       "Offspring                              int64\n",
       "Parity                                object\n",
       "Days Before Calving                    int64\n",
       "Hours Before Calving                   int64\n",
       "Calved                                 int64\n",
       "date                          datetime64[ns]\n",
       "dtype: object"
      ]
     },
     "execution_count": 21,
     "metadata": {},
     "output_type": "execute_result"
    }
   ],
   "source": [
    "#Checking datatypes of dataset after proper conversion\n",
    "df.dtypes "
   ]
  },
  {
   "cell_type": "markdown",
   "id": "5c48a9a1",
   "metadata": {},
   "source": [
    "# Extraction of numerical & and categorical features"
   ]
  },
  {
   "cell_type": "code",
   "execution_count": 22,
   "id": "d163e47a",
   "metadata": {},
   "outputs": [
    {
     "data": {
      "text/plain": [
       "['Date',\n",
       " 'Calving Date',\n",
       " 'Insemination Date',\n",
       " 'Days Pregnancy',\n",
       " 'Expected Calving Days',\n",
       " 'Expected Calving Days 1',\n",
       " 'Heat Indicator',\n",
       " 'Cow ID',\n",
       " 'Month Of Sensor Attachment',\n",
       " 'Activity',\n",
       " 'Rest Time',\n",
       " 'Rest Per Bout',\n",
       " 'Restlessness Ratio',\n",
       " 'Offspring',\n",
       " 'Days Before Calving',\n",
       " 'Hours Before Calving',\n",
       " 'Calved',\n",
       " 'date']"
      ]
     },
     "execution_count": 22,
     "metadata": {},
     "output_type": "execute_result"
    }
   ],
   "source": [
    "#Numerical features of dataset\n",
    "numercial_features = [col for col in df.columns if df[col].dtype!='O']\n",
    "numercial_features"
   ]
  },
  {
   "cell_type": "code",
   "execution_count": 23,
   "id": "a770e8f8",
   "metadata": {},
   "outputs": [
    {
     "data": {
      "text/plain": [
       "['Calving Time',\n",
       " 'Days Pregnancy 1',\n",
       " 'Calving Season',\n",
       " 'Breed',\n",
       " 'Lact No',\n",
       " 'Lactation No',\n",
       " 'Manner Of Calving',\n",
       " 'Parity']"
      ]
     },
     "execution_count": 23,
     "metadata": {},
     "output_type": "execute_result"
    }
   ],
   "source": [
    "#Categorical features of dataset\n",
    "categorical_features=[col for col in df.columns if df[col].dtypes=='O']\n",
    "categorical_features"
   ]
  },
  {
   "cell_type": "markdown",
   "id": "b52c2a56",
   "metadata": {},
   "source": [
    "# Machine Learning "
   ]
  },
  {
   "cell_type": "markdown",
   "id": "02e6b7f2",
   "metadata": {},
   "source": [
    "### Libraries"
   ]
  },
  {
   "cell_type": "code",
   "execution_count": 24,
   "id": "2c87dee7",
   "metadata": {},
   "outputs": [],
   "source": [
    "#Importing libraries\n",
    "from sklearn.model_selection import train_test_split\n",
    "from sklearn.preprocessing import StandardScaler\n",
    "from sklearn.ensemble import RandomForestClassifier, GradientBoostingClassifier, AdaBoostClassifier\n",
    "from sklearn.svm import SVC\n",
    "from sklearn.neighbors import KNeighborsClassifier\n",
    "from sklearn.tree import DecisionTreeClassifier\n",
    "from sklearn.naive_bayes import GaussianNB\n",
    "from sklearn.neural_network import MLPClassifier\n",
    "from sklearn.linear_model import LogisticRegression\n",
    "from sklearn.metrics import confusion_matrix, accuracy_score, f1_score, fbeta_score\n",
    "from sklearn.preprocessing import LabelEncoder"
   ]
  },
  {
   "cell_type": "markdown",
   "id": "1c53079f",
   "metadata": {},
   "source": [
    "## Encoding categorical variables"
   ]
  },
  {
   "cell_type": "code",
   "execution_count": 25,
   "id": "d868576b",
   "metadata": {},
   "outputs": [],
   "source": [
    "#Encoding the categorical variables \n",
    "label_encoder = LabelEncoder()\n",
    "df['Calving Time'] = label_encoder.fit_transform(df['Calving Time'])\n",
    "df['Days Pregnancy 1'] = label_encoder.fit_transform(df['Days Pregnancy 1'])\n",
    "df['Calving Season'] = label_encoder.fit_transform(df['Calving Season'])\n",
    "df['Breed'] = label_encoder.fit_transform(df['Breed'])\n",
    "df['Lact No'] = label_encoder.fit_transform(df['Lact No'])\n",
    "df['Lactation No'] = label_encoder.fit_transform(df['Lactation No'])\n",
    "df['Manner Of Calving'] = label_encoder.fit_transform(df['Manner Of Calving'])\n",
    "df['Parity'] = label_encoder.fit_transform(df['Parity'])"
   ]
  },
  {
   "cell_type": "markdown",
   "id": "38805447",
   "metadata": {},
   "source": [
    "## Conversion of date column"
   ]
  },
  {
   "cell_type": "code",
   "execution_count": 26,
   "id": "0b53e6a5",
   "metadata": {},
   "outputs": [],
   "source": [
    "#Converting datetime columns to numerical datatype \n",
    "df['Date'] = pd.to_numeric(df['Date'])\n",
    "df['Calving Time'] = pd.to_numeric(df['Calving Time'])\n",
    "df['Calving Date'] = pd.to_numeric(df['Calving Date'])\n",
    "df['Insemination Date'] = pd.to_numeric(df['Insemination Date'])"
   ]
  },
  {
   "cell_type": "markdown",
   "id": "acf6b738",
   "metadata": {},
   "source": [
    "## Getting features from dataset"
   ]
  },
  {
   "cell_type": "code",
   "execution_count": 27,
   "id": "668e0181-e49a-48a4-a286-036c1f6c8c70",
   "metadata": {},
   "outputs": [],
   "source": [
    "#Independent variables of dataset\n",
    "X = df[['Activity', 'Rest Time', 'Rest Per Bout','Restlessness Ratio','Lactation No', 'Month Of Sensor Attachment']]\n",
    "#Dependent variable of dataset\n",
    "y = df['Calved']"
   ]
  },
  {
   "cell_type": "markdown",
   "id": "12e75570",
   "metadata": {},
   "source": [
    "## Splitting the dataset"
   ]
  },
  {
   "cell_type": "code",
   "execution_count": 28,
   "id": "a2419928",
   "metadata": {},
   "outputs": [],
   "source": [
    "#Splitting the dataset into training and testing dataset\n",
    "X_train, X_test, y_train, y_test = train_test_split(X, y, test_size=0.2, random_state=4455)"
   ]
  },
  {
   "cell_type": "markdown",
   "id": "e56cc677",
   "metadata": {},
   "source": [
    "## Feature Scaling"
   ]
  },
  {
   "cell_type": "code",
   "execution_count": 29,
   "id": "7094504e",
   "metadata": {},
   "outputs": [],
   "source": [
    "#Feature Scaling\n",
    "scaler = StandardScaler()\n",
    "X_train_scaled = scaler.fit_transform(X_train)\n",
    "X_test_scaled = scaler.transform(X_test)"
   ]
  },
  {
   "cell_type": "markdown",
   "id": "76b10e44",
   "metadata": {},
   "source": [
    "## Logistic Regression"
   ]
  },
  {
   "cell_type": "code",
   "execution_count": 113,
   "id": "8d549603",
   "metadata": {},
   "outputs": [],
   "source": [
    "#Logistic Regression\n",
    "logistic_reg = LogisticRegression()\n",
    "logistic_reg.fit(X_train_scaled, y_train)\n",
    "logistic_reg_predictions = logistic_reg.predict(X_test_scaled)\n",
    "logistic_reg_conf_matrix = confusion_matrix(y_test, logistic_reg_predictions)\n",
    "\n",
    "logistic_reg_sensitivity = logistic_reg_conf_matrix[1, 1] / (logistic_reg_conf_matrix[1, 1] + logistic_reg_conf_matrix[1, 0]) * 100\n",
    "logistic_reg_specificity = logistic_reg_conf_matrix[0, 0] / (logistic_reg_conf_matrix[0, 0] + logistic_reg_conf_matrix[0, 1]) * 100\n",
    "logistic_reg_ppv = logistic_reg_conf_matrix[1, 1] / (logistic_reg_conf_matrix[1, 1] + logistic_reg_conf_matrix[0, 1]) * 100\n",
    "logistic_reg_npv = logistic_reg_conf_matrix[0, 0] / (logistic_reg_conf_matrix[0, 0] + logistic_reg_conf_matrix[1, 0]) * 100\n",
    "logistic_reg_accuracy = accuracy_score(y_test, logistic_reg_predictions) * 100\n",
    "#Calculating F2 score for Logistic Regression\n",
    "beta = 2\n",
    "logistic_reg_f2 = fbeta_score(y_test, logistic_reg_predictions, beta=beta) * 100"
   ]
  },
  {
   "cell_type": "markdown",
   "id": "c70f4f49",
   "metadata": {},
   "source": [
    "# Printing Result"
   ]
  },
  {
   "cell_type": "code",
   "execution_count": 114,
   "id": "9370f79d",
   "metadata": {},
   "outputs": [
    {
     "name": "stdout",
     "output_type": "stream",
     "text": [
      "Logistic Regression:\n",
      "Confusion Matrix:\n",
      "[[833   3]\n",
      " [ 47   8]]\n",
      "Sensitivity: 14.55%\n",
      "Specificity: 99.64%\n",
      "Positive Predictive Value: 72.73%\n",
      "Negative Predictive Value: 94.66%\n",
      "Accuracy Score: 94.39%\n",
      "F2 Score: 17.32%\n",
      "\n"
     ]
    }
   ],
   "source": [
    "# Printing results for Logistic Regression with F2 score\n",
    "print('Logistic Regression:')\n",
    "print('Confusion Matrix:')\n",
    "print(logistic_reg_conf_matrix)\n",
    "print('Sensitivity: {:.2f}%'.format(logistic_reg_sensitivity))\n",
    "print('Specificity: {:.2f}%'.format(logistic_reg_specificity))\n",
    "print('Positive Predictive Value: {:.2f}%'.format(logistic_reg_ppv))\n",
    "print('Negative Predictive Value: {:.2f}%'.format(logistic_reg_npv))\n",
    "print('Accuracy Score: {:.2f}%'.format(logistic_reg_accuracy))\n",
    "print('F2 Score: {:.2f}%'.format(logistic_reg_f2))\n",
    "print()"
   ]
  },
  {
   "cell_type": "markdown",
   "id": "4d382946",
   "metadata": {},
   "source": [
    "## Random Forest"
   ]
  },
  {
   "cell_type": "code",
   "execution_count": 115,
   "id": "0c8fc789",
   "metadata": {},
   "outputs": [],
   "source": [
    "#Random Forest\n",
    "random_forest = RandomForestClassifier()\n",
    "random_forest.fit(X_train_scaled, y_train)\n",
    "random_forest_predictions = random_forest.predict(X_test_scaled)\n",
    "random_forest_conf_matrix = confusion_matrix(y_test, random_forest_predictions)\n",
    "\n",
    "random_forest_sensitivity = random_forest_conf_matrix[1, 1] / (random_forest_conf_matrix[1, 1] + random_forest_conf_matrix[1, 0]) * 100\n",
    "random_forest_specificity = random_forest_conf_matrix[0, 0] / (random_forest_conf_matrix[0, 0] + random_forest_conf_matrix[0, 1]) * 100\n",
    "random_forest_ppv = random_forest_conf_matrix[1, 1] / (random_forest_conf_matrix[1, 1] + random_forest_conf_matrix[0, 1]) * 100\n",
    "random_forest_npv = random_forest_conf_matrix[0, 0] / (random_forest_conf_matrix[0, 0] + random_forest_conf_matrix[1, 0]) * 100\n",
    "random_forest_accuracy = accuracy_score(y_test, random_forest_predictions) * 100\n",
    "random_forest_f1 = f1_score(y_test, random_forest_predictions) * 100\n",
    "#Calculating F2 score for Random Forest\n",
    "beta = 2\n",
    "random_forest_f2 = fbeta_score(y_test, random_forest_predictions, beta=beta) * 100"
   ]
  },
  {
   "cell_type": "markdown",
   "id": "44b5cd8b",
   "metadata": {},
   "source": [
    "# Printing Result"
   ]
  },
  {
   "cell_type": "code",
   "execution_count": 116,
   "id": "a1d4abdc",
   "metadata": {},
   "outputs": [
    {
     "name": "stdout",
     "output_type": "stream",
     "text": [
      "Random Forest:\n",
      "Confusion Matrix:\n",
      "[[826  10]\n",
      " [ 33  22]]\n",
      "Sensitivity: 40.00%\n",
      "Specificity: 98.80%\n",
      "Positive Predictive Value: 68.75%\n",
      "Negative Predictive Value: 96.16%\n",
      "Accuracy Score: 95.17%\n",
      "F2 Score: 43.65%\n",
      "\n"
     ]
    }
   ],
   "source": [
    "print('Random Forest:')\n",
    "print('Confusion Matrix:')\n",
    "print(random_forest_conf_matrix)\n",
    "print('Sensitivity: {:.2f}%'.format(random_forest_sensitivity))\n",
    "print('Specificity: {:.2f}%'.format(random_forest_specificity))\n",
    "print('Positive Predictive Value: {:.2f}%'.format(random_forest_ppv))\n",
    "print('Negative Predictive Value: {:.2f}%'.format(random_forest_npv))\n",
    "print('Accuracy Score: {:.2f}%'.format(random_forest_accuracy))\n",
    "print('F2 Score: {:.2f}%'.format(random_forest_f2))\n",
    "print()"
   ]
  },
  {
   "cell_type": "markdown",
   "id": "376ddf81",
   "metadata": {},
   "source": [
    "## Gradient Boosting"
   ]
  },
  {
   "cell_type": "code",
   "execution_count": 117,
   "id": "6d39cb20",
   "metadata": {},
   "outputs": [],
   "source": [
    "#Gradient Boosting\n",
    "gradient_boosting = GradientBoostingClassifier()\n",
    "gradient_boosting.fit(X_train_scaled, y_train)\n",
    "gradient_boosting_predictions = gradient_boosting.predict(X_test_scaled)\n",
    "gradient_boosting_conf_matrix = confusion_matrix(y_test, gradient_boosting_predictions)\n",
    "\n",
    "\n",
    "gradient_boosting_sensitivity = gradient_boosting_conf_matrix[1, 1] / (gradient_boosting_conf_matrix[1, 1] + gradient_boosting_conf_matrix[1, 0]) * 100\n",
    "gradient_boosting_specificity = random_forest_conf_matrix[0, 0] / (gradient_boosting_conf_matrix[0, 0] + gradient_boosting_conf_matrix[0, 1]) * 100\n",
    "gradient_boosting_ppv = gradient_boosting_conf_matrix[1, 1] / (gradient_boosting_conf_matrix[1, 1] + gradient_boosting_conf_matrix[0, 1]) * 100\n",
    "gradient_boosting_npv = gradient_boosting_conf_matrix[0, 0] / (gradient_boosting_conf_matrix[0, 0] + gradient_boosting_conf_matrix[1, 0]) * 100\n",
    "gradient_boosting_accuracy = accuracy_score(y_test, gradient_boosting_predictions) * 100\n",
    "gradient_boosting_f1 = f1_score(y_test, gradient_boosting_predictions) * 100\n",
    "#Calculating F2 score for Gradient Boosting\n",
    "beta = 2\n",
    "gradient_boosting_f2 = fbeta_score(y_test, gradient_boosting_predictions, beta=beta) * 100"
   ]
  },
  {
   "cell_type": "markdown",
   "id": "bdb32227",
   "metadata": {},
   "source": [
    "# Printing Result"
   ]
  },
  {
   "cell_type": "code",
   "execution_count": 118,
   "id": "33ab0d9a",
   "metadata": {},
   "outputs": [
    {
     "name": "stdout",
     "output_type": "stream",
     "text": [
      "Gradient Boosting:\n",
      "Confusion Matrix:\n",
      "[[821  15]\n",
      " [ 36  19]]\n",
      "Sensitivity: 34.55%\n",
      "Specificity: 98.80%\n",
      "Positive Predictive Value: 55.88%\n",
      "Negative Predictive Value: 95.80%\n",
      "Accuracy Score: 94.28%\n",
      "F2 Score: 37.40%\n",
      "\n"
     ]
    }
   ],
   "source": [
    "print('Gradient Boosting:')\n",
    "print('Confusion Matrix:')\n",
    "print(gradient_boosting_conf_matrix)\n",
    "print('Sensitivity: {:.2f}%'.format(gradient_boosting_sensitivity))\n",
    "print('Specificity: {:.2f}%'.format(gradient_boosting_specificity))\n",
    "print('Positive Predictive Value: {:.2f}%'.format(gradient_boosting_ppv))\n",
    "print('Negative Predictive Value: {:.2f}%'.format(gradient_boosting_npv))\n",
    "print('Accuracy Score: {:.2f}%'.format(gradient_boosting_accuracy))\n",
    "print('F2 Score: {:.2f}%'.format(gradient_boosting_f2))\n",
    "print()"
   ]
  },
  {
   "cell_type": "markdown",
   "id": "3370165d",
   "metadata": {},
   "source": [
    "## Support Vector Machine (SVM)"
   ]
  },
  {
   "cell_type": "code",
   "execution_count": 119,
   "id": "b9eccf56",
   "metadata": {},
   "outputs": [],
   "source": [
    "#Support Vector Machine (SVM)\n",
    "svm = SVC()\n",
    "svm.fit(X_train_scaled, y_train)\n",
    "svm_predictions = svm.predict(X_test_scaled)\n",
    "svm_conf_matrix = confusion_matrix(y_test, svm_predictions)\n",
    "\n",
    "svm_sensitivity = svm_conf_matrix[1, 1] / (svm_conf_matrix[1, 1] + svm_conf_matrix[1, 0]) * 100\n",
    "svm_specificity = svm_conf_matrix[0, 0] / (svm_conf_matrix[0, 0] + svm_conf_matrix[0, 1]) * 100\n",
    "svm_ppv = svm_conf_matrix[1, 1] / (svm_conf_matrix[1, 1] + svm_conf_matrix[0, 1]) * 100\n",
    "svm_npv = svm_conf_matrix[0, 0] / (svm_conf_matrix[0, 0] + svm_conf_matrix[1, 0]) * 100\n",
    "svm_accuracy = accuracy_score(y_test, svm_predictions) * 100\n",
    "svm_f1 = f1_score(y_test, svm_predictions) * 100\n",
    "#Calculating F2 score for Support Vector Machine (SVM)\n",
    "beta = 2\n",
    "svm_f2 = fbeta_score(y_test, svm_predictions, beta=beta) * 100"
   ]
  },
  {
   "cell_type": "markdown",
   "id": "255850bb",
   "metadata": {},
   "source": [
    "# Printing Result"
   ]
  },
  {
   "cell_type": "code",
   "execution_count": 120,
   "id": "1500149d",
   "metadata": {},
   "outputs": [
    {
     "name": "stdout",
     "output_type": "stream",
     "text": [
      "Support Vector Machine (SVM):\n",
      "Confusion Matrix:\n",
      "[[826  10]\n",
      " [ 42  13]]\n",
      "Sensitivity: 23.64%\n",
      "Specificity: 98.80%\n",
      "Positive Predictive Value: 56.52%\n",
      "Negative Predictive Value: 95.16%\n",
      "Accuracy Score: 94.16%\n",
      "F2 Score: 26.75%\n",
      "\n"
     ]
    }
   ],
   "source": [
    "print('Support Vector Machine (SVM):')\n",
    "print('Confusion Matrix:')\n",
    "print(svm_conf_matrix)\n",
    "print('Sensitivity: {:.2f}%'.format(svm_sensitivity))\n",
    "print('Specificity: {:.2f}%'.format(svm_specificity))\n",
    "print('Positive Predictive Value: {:.2f}%'.format(svm_ppv))\n",
    "print('Negative Predictive Value: {:.2f}%'.format(svm_npv))\n",
    "print('Accuracy Score: {:.2f}%'.format(svm_accuracy))\n",
    "print('F2 Score: {:.2f}%'.format(svm_f2))\n",
    "print()"
   ]
  },
  {
   "cell_type": "markdown",
   "id": "479b8a37",
   "metadata": {},
   "source": [
    "## K-Nearest Neighbors (KNN)"
   ]
  },
  {
   "cell_type": "code",
   "execution_count": 121,
   "id": "4e3d04b5",
   "metadata": {},
   "outputs": [],
   "source": [
    "#K-nearest neighbors (KNN)\n",
    "knn = KNeighborsClassifier()\n",
    "knn.fit(X_train_scaled, y_train)\n",
    "knn_predictions = knn.predict(X_test_scaled)\n",
    "knn_conf_matrix = confusion_matrix(y_test, knn_predictions)\n",
    "\n",
    "knn_sensitivity = knn_conf_matrix[1, 1] / (knn_conf_matrix[1, 1] + knn_conf_matrix[1, 0]) * 100\n",
    "knn_specificity = knn_conf_matrix[0, 0] / (knn_conf_matrix[0, 0] + knn_conf_matrix[0, 1]) * 100\n",
    "knn_ppv = knn_conf_matrix[1, 1] / (knn_conf_matrix[1, 1] + knn_conf_matrix[0, 1]) * 100\n",
    "knn_npv = knn_conf_matrix[0, 0] / (knn_conf_matrix[0, 0] + knn_conf_matrix[1, 0]) * 100\n",
    "knn_accuracy = accuracy_score(y_test, knn_predictions) * 100\n",
    "knn_f1 = f1_score(y_test, knn_predictions) * 100\n",
    "#Calculating F2 score for K-Nearest neighbors (KNN)\n",
    "beta = 2\n",
    "knn_f2 = fbeta_score(y_test, knn_predictions, beta=beta) * 100"
   ]
  },
  {
   "cell_type": "markdown",
   "id": "263aa866",
   "metadata": {},
   "source": [
    "# Printing Result"
   ]
  },
  {
   "cell_type": "code",
   "execution_count": 122,
   "id": "65ce2817",
   "metadata": {},
   "outputs": [
    {
     "name": "stdout",
     "output_type": "stream",
     "text": [
      "K-Nearest Neighbors (KNN):\n",
      "Confusion Matrix:\n",
      "[[824  12]\n",
      " [ 39  16]]\n",
      "Sensitivity: 29.09%\n",
      "Specificity: 98.56%\n",
      "Positive Predictive Value: 57.14%\n",
      "Negative Predictive Value: 95.48%\n",
      "Accuracy Score: 94.28%\n",
      "F2 Score: 32.26%\n",
      "\n"
     ]
    }
   ],
   "source": [
    "print('K-Nearest Neighbors (KNN):')\n",
    "print('Confusion Matrix:')\n",
    "print(knn_conf_matrix)\n",
    "print('Sensitivity: {:.2f}%'.format(knn_sensitivity))\n",
    "print('Specificity: {:.2f}%'.format(knn_specificity))\n",
    "print('Positive Predictive Value: {:.2f}%'.format(knn_ppv))\n",
    "print('Negative Predictive Value: {:.2f}%'.format(knn_npv))\n",
    "print('Accuracy Score: {:.2f}%'.format(knn_accuracy))\n",
    "print('F2 Score: {:.2f}%'.format(knn_f2))\n",
    "print()"
   ]
  },
  {
   "cell_type": "markdown",
   "id": "255db265",
   "metadata": {},
   "source": [
    "## Decision Tree"
   ]
  },
  {
   "cell_type": "code",
   "execution_count": 133,
   "id": "047786c2",
   "metadata": {},
   "outputs": [],
   "source": [
    "#Decision Tree\n",
    "decision_tree = DecisionTreeClassifier()\n",
    "decision_tree.fit(X_train_scaled, y_train)\n",
    "decision_tree_predictions = decision_tree.predict(X_test_scaled)\n",
    "decision_tree_conf_matrix = confusion_matrix(y_test, decision_tree_predictions)\n",
    "\n",
    "decision_tree_sensitivity = decision_tree_conf_matrix[1, 1] / (decision_tree_conf_matrix[1, 1] + decision_tree_conf_matrix[1, 0]) * 100\n",
    "decision_tree_specificity = decision_tree_conf_matrix[0, 0] / (decision_tree_conf_matrix[0, 0] + decision_tree_conf_matrix[0, 1]) * 100\n",
    "decision_tree_ppv = decision_tree_conf_matrix[1, 1] / (decision_tree_conf_matrix[1, 1] + decision_tree_conf_matrix[0, 1]) * 100\n",
    "decision_tree_npv = decision_tree_conf_matrix[0, 0] / (decision_tree_conf_matrix[0, 0] + decision_tree_conf_matrix[1, 0]) * 100\n",
    "decision_tree_accuracy = accuracy_score(y_test, decision_tree_predictions) * 100\n",
    "decision_tree_f1 = f1_score(y_test, decision_tree_predictions) * 100\n",
    "#Calculating F2 score for Decision Tree (DT)\n",
    "beta = 2\n",
    "decision_tree_f2 = fbeta_score(y_test, decision_tree_predictions, beta=beta) * 100"
   ]
  },
  {
   "cell_type": "markdown",
   "id": "3e755bb0",
   "metadata": {},
   "source": [
    "# Printing Result"
   ]
  },
  {
   "cell_type": "code",
   "execution_count": 134,
   "id": "6ccdbfa0",
   "metadata": {},
   "outputs": [
    {
     "name": "stdout",
     "output_type": "stream",
     "text": [
      "Decision Tree (DT):\n",
      "Confusion Matrix:\n",
      "[[787  49]\n",
      " [ 28  27]]\n",
      "Sensitivity: 49.09%\n",
      "Specificity: 94.14%\n",
      "Positive Predictive Value: 35.53%\n",
      "Negative Predictive Value: 96.56%\n",
      "Accuracy Score: 91.36%\n",
      "F2 Score: 45.61%\n",
      "\n"
     ]
    }
   ],
   "source": [
    "print('Decision Tree (DT):')\n",
    "print('Confusion Matrix:')\n",
    "print(decision_tree_conf_matrix)\n",
    "print('Sensitivity: {:.2f}%'.format(decision_tree_sensitivity))\n",
    "print('Specificity: {:.2f}%'.format(decision_tree_specificity))\n",
    "print('Positive Predictive Value: {:.2f}%'.format(decision_tree_ppv))\n",
    "print('Negative Predictive Value: {:.2f}%'.format(decision_tree_npv))\n",
    "print('Accuracy Score: {:.2f}%'.format(decision_tree_accuracy))\n",
    "print('F2 Score: {:.2f}%'.format(decision_tree_f2))\n",
    "print()"
   ]
  },
  {
   "cell_type": "markdown",
   "id": "82743a4b",
   "metadata": {},
   "source": [
    "## Naive Bayes"
   ]
  },
  {
   "cell_type": "code",
   "execution_count": 135,
   "id": "56527cdc",
   "metadata": {},
   "outputs": [],
   "source": [
    "#Naive Bayes\n",
    "naive_bayes = GaussianNB()\n",
    "naive_bayes.fit(X_train_scaled, y_train)\n",
    "naive_bayes_predictions = naive_bayes.predict(X_test_scaled)\n",
    "naive_bayes_conf_matrix = confusion_matrix(y_test, naive_bayes_predictions)\n",
    "\n",
    "\n",
    "naive_bayes_sensitivity = naive_bayes_conf_matrix[1, 1] / (naive_bayes_conf_matrix[1, 1] + naive_bayes_conf_matrix[1, 0]) * 100\n",
    "naive_bayes_specificity = naive_bayes_conf_matrix[0, 0] / (naive_bayes_conf_matrix[0, 0] + naive_bayes_conf_matrix[0, 1]) * 100\n",
    "naive_bayes_ppv = naive_bayes_conf_matrix[1, 1] / (naive_bayes_conf_matrix[1, 1] + naive_bayes_conf_matrix[0, 1]) * 100\n",
    "naive_bayes_npv = naive_bayes_conf_matrix[0, 0] / (naive_bayes_conf_matrix[0, 0] + naive_bayes_conf_matrix[1, 0]) * 100\n",
    "naive_bayes_accuracy = accuracy_score(y_test, naive_bayes_predictions) * 100\n",
    "naive_bayes_f1 = f1_score(y_test, naive_bayes_predictions) * 100\n",
    "#Calculating F2 score for Naive Bayes\n",
    "beta = 2\n",
    "naive_bayes_f2 = fbeta_score(y_test, naive_bayes_predictions, beta=beta) * 100"
   ]
  },
  {
   "cell_type": "markdown",
   "id": "e2c293d5",
   "metadata": {},
   "source": [
    "# Printing Result"
   ]
  },
  {
   "cell_type": "code",
   "execution_count": 136,
   "id": "2de3c9c1",
   "metadata": {},
   "outputs": [
    {
     "name": "stdout",
     "output_type": "stream",
     "text": [
      "Naive Bayes:\n",
      "Confusion Matrix:\n",
      "[[799  37]\n",
      " [ 28  27]]\n",
      "Sensitivity: 49.09%\n",
      "Specificity: 95.57%\n",
      "Positive Predictive Value: 42.19%\n",
      "Negative Predictive Value: 96.61%\n",
      "Accuracy Score: 92.70%\n",
      "F2 Score: 47.54%\n",
      "\n"
     ]
    }
   ],
   "source": [
    "print('Naive Bayes:')\n",
    "print('Confusion Matrix:')\n",
    "print(naive_bayes_conf_matrix)\n",
    "print('Sensitivity: {:.2f}%'.format(naive_bayes_sensitivity))\n",
    "print('Specificity: {:.2f}%'.format(naive_bayes_specificity))\n",
    "print('Positive Predictive Value: {:.2f}%'.format(naive_bayes_ppv))\n",
    "print('Negative Predictive Value: {:.2f}%'.format(naive_bayes_npv))\n",
    "print('Accuracy Score: {:.2f}%'.format(naive_bayes_accuracy))\n",
    "print('F2 Score: {:.2f}%'.format(naive_bayes_f2))\n",
    "print()"
   ]
  },
  {
   "cell_type": "markdown",
   "id": "431c1f27",
   "metadata": {},
   "source": [
    "## Neural Netwrok (Multilayer Perceptron)"
   ]
  },
  {
   "cell_type": "code",
   "execution_count": 147,
   "id": "9f05ed83",
   "metadata": {},
   "outputs": [],
   "source": [
    "#Neural Network (Multilayer Perceptron)\n",
    "mlp = MLPClassifier()\n",
    "mlp.fit(X_train_scaled, y_train)\n",
    "mlp_predictions = mlp.predict(X_test_scaled)\n",
    "mlp_conf_matrix = confusion_matrix(y_test, mlp_predictions)\n",
    "\n",
    "mlp_sensitivity = mlp_conf_matrix[1, 1] / (mlp_conf_matrix[1, 1] + mlp_conf_matrix[1, 0]) * 100\n",
    "mlp_specificity = mlp_conf_matrix[0, 0] / (mlp_conf_matrix[0, 0] + mlp_conf_matrix[0, 1]) * 100\n",
    "mlp_ppv = mlp_conf_matrix[1, 1] / (mlp_conf_matrix[1, 1] + mlp_conf_matrix[0, 1]) * 100\n",
    "mlp_npv = mlp_conf_matrix[0, 0] / (mlp_conf_matrix[0, 0] + mlp_conf_matrix[1, 0]) * 100\n",
    "mlp_accuracy = accuracy_score(y_test, mlp_predictions) * 100\n",
    "mlp_f1 = f1_score(y_test, mlp_predictions) * 100\n",
    "#Calculating F2 score for neural network (multilayer perception)\n",
    "beta = 2\n",
    "mlp_f2 = fbeta_score(y_test, mlp_predictions, beta=beta) * 100"
   ]
  },
  {
   "cell_type": "markdown",
   "id": "7381f399",
   "metadata": {},
   "source": [
    "# Printing Result"
   ]
  },
  {
   "cell_type": "code",
   "execution_count": 148,
   "id": "49efe6fa",
   "metadata": {},
   "outputs": [
    {
     "name": "stdout",
     "output_type": "stream",
     "text": [
      "Neural Network (Multilayer Perceptron):\n",
      "Confusion Matrix:\n",
      "[[827   9]\n",
      " [ 33  22]]\n",
      "Sensitivity: 40.00%\n",
      "Specificity: 98.92%\n",
      "Positive Predictive Value: 70.97%\n",
      "Negative Predictive Value: 96.16%\n",
      "Accuracy Score: 95.29%\n",
      "F2 Score: 43.82%\n",
      "\n"
     ]
    }
   ],
   "source": [
    "print('Neural Network (Multilayer Perceptron):')\n",
    "print('Confusion Matrix:')\n",
    "print(mlp_conf_matrix)\n",
    "print('Sensitivity: {:.2f}%'.format(mlp_sensitivity))\n",
    "print('Specificity: {:.2f}%'.format(mlp_specificity))\n",
    "print('Positive Predictive Value: {:.2f}%'.format(mlp_ppv))\n",
    "print('Negative Predictive Value: {:.2f}%'.format(mlp_npv))\n",
    "print('Accuracy Score: {:.2f}%'.format(mlp_accuracy))\n",
    "print('F2 Score: {:.2f}%'.format(mlp_f2))\n",
    "print()"
   ]
  },
  {
   "cell_type": "markdown",
   "id": "a4d5e69e",
   "metadata": {},
   "source": [
    "## AdaBoost"
   ]
  },
  {
   "cell_type": "code",
   "execution_count": 149,
   "id": "2c55df76",
   "metadata": {},
   "outputs": [],
   "source": [
    "#AdaBoost\n",
    "adaboost = AdaBoostClassifier()\n",
    "adaboost.fit(X_train_scaled, y_train)\n",
    "adaboost_predictions = adaboost.predict(X_test_scaled)\n",
    "adaboost_conf_matrix = confusion_matrix(y_test, adaboost_predictions)\n",
    "\n",
    "adaboost_sensitivity = adaboost_conf_matrix[1, 1] / (adaboost_conf_matrix[1, 1] + adaboost_conf_matrix[1, 0]) * 100\n",
    "adaboost_specificity = adaboost_conf_matrix[0, 0] / (adaboost_conf_matrix[0, 0] + adaboost_conf_matrix[0, 1]) * 100\n",
    "adaboost_ppv = adaboost_conf_matrix[1, 1] / (adaboost_conf_matrix[1, 1] + adaboost_conf_matrix[0, 1]) * 100\n",
    "adaboost_npv = adaboost_conf_matrix[0, 0] / (adaboost_conf_matrix[0, 0] + adaboost_conf_matrix[1, 0]) * 100\n",
    "adaboost_accuracy = accuracy_score(y_test, adaboost_predictions) * 100\n",
    "adaboost_f1 = f1_score(y_test, adaboost_predictions) * 100\n",
    "#Calculating F2 score for Adaboost\n",
    "beta = 2\n",
    "adaboost_f2 = fbeta_score(y_test, adaboost_predictions, beta=beta) * 100"
   ]
  },
  {
   "cell_type": "markdown",
   "id": "5b12c75c",
   "metadata": {},
   "source": [
    "# Printing Results"
   ]
  },
  {
   "cell_type": "code",
   "execution_count": 150,
   "id": "cc6087be",
   "metadata": {},
   "outputs": [
    {
     "name": "stdout",
     "output_type": "stream",
     "text": [
      "Adaboost:\n",
      "Confusion Matrix:\n",
      "[[828   8]\n",
      " [ 39  16]]\n",
      "Sensitivity: 29.09%\n",
      "Specificity: 99.04%\n",
      "Positive Predictive Value: 66.67%\n",
      "Negative Predictive Value: 95.50%\n",
      "Accuracy Score: 94.73%\n",
      "F2 Score: 32.79%\n",
      "\n"
     ]
    }
   ],
   "source": [
    "print('Adaboost:')\n",
    "print('Confusion Matrix:')\n",
    "print(adaboost_conf_matrix)\n",
    "print('Sensitivity: {:.2f}%'.format(adaboost_sensitivity))\n",
    "print('Specificity: {:.2f}%'.format(adaboost_specificity))\n",
    "print('Positive Predictive Value: {:.2f}%'.format(adaboost_ppv))\n",
    "print('Negative Predictive Value: {:.2f}%'.format(adaboost_npv))\n",
    "print('Accuracy Score: {:.2f}%'.format(adaboost_accuracy))\n",
    "print('F2 Score: {:.2f}%'.format(adaboost_f2))\n",
    "print()"
   ]
  },
  {
   "cell_type": "markdown",
   "id": "dddf857d",
   "metadata": {},
   "source": [
    "## Kernel Support Vector Machine (K-SVM)"
   ]
  },
  {
   "cell_type": "code",
   "execution_count": 151,
   "id": "80257a30",
   "metadata": {},
   "outputs": [],
   "source": [
    "#Kernel Support Vector Machine (KSVM)\n",
    "kernel_svm = SVC(kernel='rbf')\n",
    "kernel_svm.fit(X_train_scaled, y_train)\n",
    "kernel_svm_predictions = kernel_svm.predict(X_test_scaled)\n",
    "kernel_svm_conf_matrix = confusion_matrix(y_test, kernel_svm_predictions)\n",
    "\n",
    "kernel_svm_sensitivity = kernel_svm_conf_matrix[1, 1] / (kernel_svm_conf_matrix[1, 1] + kernel_svm_conf_matrix[1, 0]) * 100\n",
    "kernel_svm_specificity = kernel_svm_conf_matrix[0, 0] / (adaboost_conf_matrix[0, 0] + kernel_svm_conf_matrix[0, 1]) * 100\n",
    "kernel_svm_ppv = kernel_svm_conf_matrix[1, 1] / (kernel_svm_conf_matrix[1, 1] + kernel_svm_conf_matrix[0, 1]) * 100\n",
    "kernel_svm_npv = kernel_svm_conf_matrix[0, 0] / (kernel_svm_conf_matrix[0, 0] + kernel_svm_conf_matrix[1, 0]) * 100\n",
    "kernel_svm_accuracy = accuracy_score(y_test, kernel_svm_predictions) * 100\n",
    "kernel_svm_f1 = f1_score(y_test, kernel_svm_predictions) * 100\n",
    "#Calculating F2 score for Kernel Support Vector Machine (K-SVM)\n",
    "beta = 2\n",
    "kernel_svm_f2 = fbeta_score(y_test, kernel_svm_predictions, beta=beta) * 100"
   ]
  },
  {
   "cell_type": "markdown",
   "id": "8d4e385b",
   "metadata": {},
   "source": [
    "# Printing Result"
   ]
  },
  {
   "cell_type": "code",
   "execution_count": 152,
   "id": "1378d0bc",
   "metadata": {},
   "outputs": [
    {
     "name": "stdout",
     "output_type": "stream",
     "text": [
      "Kernel Support Vector Machine (K-SVM):\n",
      "Confusion Matrix:\n",
      "[[826  10]\n",
      " [ 42  13]]\n",
      "Sensitivity: 23.64%\n",
      "Specificity: 98.57%\n",
      "Positive Predictive Value: 56.52%\n",
      "Negative Predictive Value: 95.16%\n",
      "Accuracy Score: 94.16%\n",
      "F2 Score: 26.75%\n",
      "\n"
     ]
    }
   ],
   "source": [
    "print('Kernel Support Vector Machine (K-SVM):')\n",
    "print('Confusion Matrix:')\n",
    "print(kernel_svm_conf_matrix)\n",
    "print('Sensitivity: {:.2f}%'.format(kernel_svm_sensitivity))\n",
    "print('Specificity: {:.2f}%'.format(kernel_svm_specificity))\n",
    "print('Positive Predictive Value: {:.2f}%'.format(kernel_svm_ppv))\n",
    "print('Negative Predictive Value: {:.2f}%'.format(kernel_svm_npv))\n",
    "print('Accuracy Score: {:.2f}%'.format(kernel_svm_accuracy))\n",
    "print('F2 Score: {:.2f}%'.format(kernel_svm_f2))\n",
    "print()"
   ]
  },
  {
   "cell_type": "markdown",
   "id": "bbfecc88-f83f-400c-a56d-44747fc88df8",
   "metadata": {},
   "source": [
    "# Feature selection"
   ]
  },
  {
   "cell_type": "markdown",
   "id": "10b48cee-f591-43e8-88ac-ce0a48ef1c25",
   "metadata": {},
   "source": [
    "# Library"
   ]
  },
  {
   "cell_type": "code",
   "execution_count": 30,
   "id": "b04077f9-6ca7-445f-b4b4-4172c99df42f",
   "metadata": {},
   "outputs": [
    {
     "name": "stdout",
     "output_type": "stream",
     "text": [
      "3.8.8 (default, Apr 13 2021, 15:08:03) [MSC v.1916 64 bit (AMD64)]\n"
     ]
    }
   ],
   "source": [
    "import sys\n",
    "print(sys.version)"
   ]
  },
  {
   "cell_type": "code",
   "execution_count": 31,
   "id": "d0d43ccb-06d3-44a1-88de-ccc2b9754704",
   "metadata": {},
   "outputs": [
    {
     "name": "stdout",
     "output_type": "stream",
     "text": [
      "Requirement already satisfied: shap in c:\\users\\user\\anaconda3\\lib\\site-packages (0.44.0)\n",
      "Requirement already satisfied: scikit-learn in c:\\users\\user\\anaconda3\\lib\\site-packages (from shap) (0.24.1)\n",
      "Requirement already satisfied: tqdm>=4.27.0 in c:\\users\\user\\anaconda3\\lib\\site-packages (from shap) (4.59.0)\n",
      "Requirement already satisfied: numba in c:\\users\\user\\anaconda3\\lib\\site-packages (from shap) (0.53.1)\n",
      "Requirement already satisfied: scipy in c:\\users\\user\\anaconda3\\lib\\site-packages (from shap) (1.6.2)\n",
      "Requirement already satisfied: pandas in c:\\users\\user\\anaconda3\\lib\\site-packages (from shap) (1.2.4)\n",
      "Requirement already satisfied: numpy in c:\\users\\user\\anaconda3\\lib\\site-packages (from shap) (1.20.1)\n",
      "Requirement already satisfied: cloudpickle in c:\\users\\user\\anaconda3\\lib\\site-packages (from shap) (1.6.0)\n",
      "Requirement already satisfied: packaging>20.9 in c:\\users\\user\\anaconda3\\lib\\site-packages (from shap) (23.2)\n",
      "Requirement already satisfied: slicer==0.0.7 in c:\\users\\user\\anaconda3\\lib\\site-packages (from shap) (0.0.7)\n",
      "Requirement already satisfied: setuptools in c:\\users\\user\\anaconda3\\lib\\site-packages (from numba->shap) (52.0.0.post20210125)\n",
      "Requirement already satisfied: llvmlite<0.37,>=0.36.0rc1 in c:\\users\\user\\anaconda3\\lib\\site-packages (from numba->shap) (0.36.0)\n",
      "Requirement already satisfied: python-dateutil>=2.7.3 in c:\\users\\user\\anaconda3\\lib\\site-packages (from pandas->shap) (2.8.1)\n",
      "Requirement already satisfied: pytz>=2017.3 in c:\\users\\user\\anaconda3\\lib\\site-packages (from pandas->shap) (2021.1)\n",
      "Requirement already satisfied: six>=1.5 in c:\\users\\user\\anaconda3\\lib\\site-packages (from python-dateutil>=2.7.3->pandas->shap) (1.15.0)\n",
      "Requirement already satisfied: joblib>=0.11 in c:\\users\\user\\anaconda3\\lib\\site-packages (from scikit-learn->shap) (1.0.1)\n",
      "Requirement already satisfied: threadpoolctl>=2.0.0 in c:\\users\\user\\anaconda3\\lib\\site-packages (from scikit-learn->shap) (2.1.0)\n"
     ]
    }
   ],
   "source": [
    "!pip install shap"
   ]
  },
  {
   "cell_type": "code",
   "execution_count": 32,
   "id": "ceb24507-1a4f-45f5-a782-240d278737d8",
   "metadata": {},
   "outputs": [
    {
     "name": "stdout",
     "output_type": "stream",
     "text": [
      "C:\\Users\\User\\anaconda3\\python.exe\n"
     ]
    }
   ],
   "source": [
    "import sys\n",
    "print(sys.executable)"
   ]
  },
  {
   "cell_type": "code",
   "execution_count": 33,
   "id": "7278ea57-87e4-4a45-a74e-89956b5fa7f8",
   "metadata": {},
   "outputs": [
    {
     "name": "stdout",
     "output_type": "stream",
     "text": [
      "Package                            Version\n",
      "---------------------------------- -------------------\n",
      "alabaster                          0.7.12\n",
      "anaconda-client                    1.7.2\n",
      "anaconda-navigator                 2.0.3\n",
      "anaconda-project                   0.9.1\n",
      "anyio                              2.2.0\n",
      "appdirs                            1.4.4\n",
      "argh                               0.26.2\n",
      "argon2-cffi                        20.1.0\n",
      "asn1crypto                         1.4.0\n",
      "astroid                            2.5\n",
      "astropy                            4.2.1\n",
      "async-generator                    1.10\n",
      "atomicwrites                       1.4.0\n",
      "attrs                              20.3.0\n",
      "autopep8                           1.5.6\n",
      "Babel                              2.9.0\n",
      "backcall                           0.2.0\n",
      "backports.functools-lru-cache      1.6.4\n",
      "backports.shutil-get-terminal-size 1.0.0\n",
      "backports.tempfile                 1.0\n",
      "backports.weakref                  1.0.post1\n",
      "bcrypt                             3.2.0\n",
      "beautifulsoup4                     4.9.3\n",
      "bitarray                           1.9.2\n",
      "bkcharts                           0.2\n",
      "black                              19.10b0\n",
      "bleach                             3.3.0\n",
      "bokeh                              2.3.2\n",
      "boto                               2.49.0\n",
      "Bottleneck                         1.3.2\n",
      "brotlipy                           0.7.0\n",
      "certifi                            2020.12.5\n",
      "cffi                               1.14.5\n",
      "chardet                            4.0.0\n",
      "click                              7.1.2\n",
      "cloudpickle                        1.6.0\n",
      "clyent                             1.2.2\n",
      "colorama                           0.4.4\n",
      "comtypes                           1.1.9\n",
      "conda                              4.10.1\n",
      "conda-build                        3.21.4\n",
      "conda-content-trust                0+unknown\n",
      "conda-package-handling             1.7.3\n",
      "conda-repo-cli                     1.0.4\n",
      "conda-token                        0.3.0\n",
      "conda-verify                       3.4.2\n",
      "contextlib2                        0.6.0.post1\n",
      "cryptography                       3.4.7\n",
      "cycler                             0.10.0\n",
      "Cython                             0.29.23\n",
      "cytoolz                            0.11.0\n",
      "dask                               2021.4.0\n",
      "decorator                          5.0.6\n",
      "defusedxml                         0.7.1\n",
      "diff-match-patch                   20200713\n",
      "distributed                        2021.4.0\n",
      "docutils                           0.17\n",
      "entrypoints                        0.3\n",
      "et-xmlfile                         1.0.1\n",
      "fastcache                          1.1.0\n",
      "filelock                           3.0.12\n",
      "flake8                             3.9.0\n",
      "Flask                              1.1.2\n",
      "fsspec                             0.9.0\n",
      "future                             0.18.2\n",
      "gevent                             21.1.2\n",
      "glob2                              0.7\n",
      "greenlet                           1.0.0\n",
      "h5py                               2.10.0\n",
      "HeapDict                           1.0.1\n",
      "html5lib                           1.1\n",
      "idna                               2.10\n",
      "imagecodecs                        2021.3.31\n",
      "imageio                            2.9.0\n",
      "imagesize                          1.2.0\n",
      "importlib-metadata                 3.10.0\n",
      "iniconfig                          1.1.1\n",
      "intervaltree                       3.1.0\n",
      "ipykernel                          5.3.4\n",
      "ipython                            7.22.0\n",
      "ipython-genutils                   0.2.0\n",
      "ipywidgets                         7.6.3\n",
      "isort                              5.8.0\n",
      "itsdangerous                       1.1.0\n",
      "jdcal                              1.4.1\n",
      "jedi                               0.17.2\n",
      "Jinja2                             2.11.3\n",
      "joblib                             1.0.1\n",
      "json5                              0.9.5\n",
      "jsonschema                         3.2.0\n",
      "jupyter                            1.0.0\n",
      "jupyter-client                     6.1.12\n",
      "jupyter-console                    6.4.0\n",
      "jupyter-core                       4.7.1\n",
      "jupyter-packaging                  0.7.12\n",
      "jupyter-server                     1.4.1\n",
      "jupyterlab                         3.0.14\n",
      "jupyterlab-pygments                0.1.2\n",
      "jupyterlab-server                  2.4.0\n",
      "jupyterlab-widgets                 1.0.0\n",
      "keyring                            22.3.0\n",
      "kiwisolver                         1.3.1\n",
      "lazy-object-proxy                  1.6.0\n",
      "libarchive-c                       2.9\n",
      "llvmlite                           0.36.0\n",
      "locket                             0.2.1\n",
      "lxml                               4.6.3\n",
      "MarkupSafe                         1.1.1\n",
      "matplotlib                         3.3.4\n",
      "mccabe                             0.6.1\n",
      "menuinst                           1.4.16\n",
      "mistune                            0.8.4\n",
      "mkl-fft                            1.3.0\n",
      "mkl-random                         1.2.1\n",
      "mkl-service                        2.3.0\n",
      "mock                               4.0.3\n",
      "more-itertools                     8.7.0\n",
      "mpmath                             1.2.1\n",
      "msgpack                            1.0.2\n",
      "multipledispatch                   0.6.0\n",
      "mypy-extensions                    0.4.3\n",
      "navigator-updater                  0.2.1\n",
      "nbclassic                          0.2.6\n",
      "nbclient                           0.5.3\n",
      "nbconvert                          6.0.7\n",
      "nbformat                           5.1.3\n",
      "nest-asyncio                       1.5.1\n",
      "networkx                           2.5\n",
      "nltk                               3.6.1\n",
      "nose                               1.3.7\n",
      "notebook                           6.3.0\n",
      "numba                              0.53.1\n",
      "numexpr                            2.7.3\n",
      "numpy                              1.20.1\n",
      "numpydoc                           1.1.0\n",
      "olefile                            0.46\n",
      "openpyxl                           3.0.7\n",
      "packaging                          23.2\n",
      "pandas                             1.2.4\n",
      "pandocfilters                      1.4.3\n",
      "paramiko                           2.7.2\n",
      "parso                              0.7.0\n",
      "partd                              1.2.0\n",
      "path                               15.1.2\n",
      "pathlib2                           2.3.5\n",
      "pathspec                           0.7.0\n",
      "patsy                              0.5.1\n",
      "pep8                               1.7.1\n",
      "pexpect                            4.8.0\n",
      "pickleshare                        0.7.5\n",
      "Pillow                             8.2.0\n",
      "pip                                21.0.1\n",
      "pkginfo                            1.7.0\n",
      "pluggy                             0.13.1\n",
      "ply                                3.11\n",
      "prometheus-client                  0.10.1\n",
      "prompt-toolkit                     3.0.17\n",
      "psutil                             5.8.0\n",
      "ptyprocess                         0.7.0\n",
      "py                                 1.10.0\n",
      "pycodestyle                        2.6.0\n",
      "pycosat                            0.6.3\n",
      "pycparser                          2.20\n",
      "pycurl                             7.43.0.6\n",
      "pydocstyle                         6.0.0\n",
      "pyerfa                             1.7.3\n",
      "pyflakes                           2.2.0\n",
      "Pygments                           2.8.1\n",
      "pylint                             2.7.4\n",
      "pyls-black                         0.4.6\n",
      "pyls-spyder                        0.3.2\n",
      "PyNaCl                             1.4.0\n",
      "pyodbc                             4.0.0-unsupported\n",
      "pyOpenSSL                          20.0.1\n",
      "pyparsing                          2.4.7\n",
      "pyreadline                         2.1\n",
      "pyrsistent                         0.17.3\n",
      "PySocks                            1.7.1\n",
      "pytest                             6.2.3\n",
      "python-dateutil                    2.8.1\n",
      "python-jsonrpc-server              0.4.0\n",
      "python-language-server             0.36.2\n",
      "pytz                               2021.1\n",
      "PyWavelets                         1.1.1\n",
      "pywin32                            227\n",
      "pywin32-ctypes                     0.2.0\n",
      "pywinpty                           0.5.7\n",
      "PyYAML                             5.4.1\n",
      "pyzmq                              20.0.0\n",
      "QDarkStyle                         2.8.1\n",
      "QtAwesome                          1.0.2\n",
      "qtconsole                          5.0.3\n",
      "QtPy                               1.9.0\n",
      "regex                              2021.4.4\n",
      "requests                           2.25.1\n",
      "rope                               0.18.0\n",
      "Rtree                              0.9.7\n",
      "ruamel-yaml-conda                  0.15.100\n",
      "scikit-image                       0.18.1\n",
      "scikit-learn                       0.24.1\n",
      "scipy                              1.6.2\n",
      "seaborn                            0.11.1\n",
      "Send2Trash                         1.5.0\n",
      "setuptools                         52.0.0.post20210125\n",
      "shap                               0.44.0\n",
      "simplegeneric                      0.8.1\n",
      "singledispatch                     0.0.0\n",
      "sip                                4.19.13\n",
      "six                                1.15.0\n",
      "slicer                             0.0.7\n",
      "sniffio                            1.2.0\n",
      "snowballstemmer                    2.1.0\n",
      "sortedcollections                  2.1.0\n",
      "sortedcontainers                   2.3.0\n",
      "soupsieve                          2.2.1\n",
      "Sphinx                             4.0.1\n",
      "sphinxcontrib-applehelp            1.0.2\n",
      "sphinxcontrib-devhelp              1.0.2\n",
      "sphinxcontrib-htmlhelp             1.0.3\n",
      "sphinxcontrib-jsmath               1.0.1\n",
      "sphinxcontrib-qthelp               1.0.3\n",
      "sphinxcontrib-serializinghtml      1.1.4\n",
      "sphinxcontrib-websupport           1.2.4\n",
      "spyder                             4.2.5\n",
      "spyder-kernels                     1.10.2\n",
      "SQLAlchemy                         1.4.7\n",
      "statsmodels                        0.12.2\n",
      "sympy                              1.8\n",
      "tables                             3.6.1\n",
      "tblib                              1.7.0\n",
      "terminado                          0.9.4\n",
      "testpath                           0.4.4\n",
      "textdistance                       4.2.1\n",
      "threadpoolctl                      2.1.0\n",
      "three-merge                        0.1.1\n",
      "tifffile                           2021.4.8\n",
      "toml                               0.10.2\n",
      "toolz                              0.11.1\n",
      "tornado                            6.1\n",
      "tqdm                               4.59.0\n",
      "traitlets                          5.0.5\n",
      "typed-ast                          1.4.2\n",
      "typing-extensions                  3.7.4.3\n",
      "ujson                              4.0.2\n",
      "unicodecsv                         0.14.1\n",
      "urllib3                            1.26.4\n",
      "watchdog                           1.0.2\n",
      "wcwidth                            0.2.5\n",
      "webencodings                       0.5.1\n",
      "Werkzeug                           1.0.1\n",
      "wheel                              0.36.2\n",
      "widgetsnbextension                 3.5.1\n",
      "win-inet-pton                      1.1.0\n",
      "win-unicode-console                0.5\n",
      "wincertstore                       0.2\n",
      "wrapt                              1.12.1\n",
      "xlrd                               2.0.1\n",
      "XlsxWriter                         1.3.8\n",
      "xlwings                            0.23.0\n",
      "xlwt                               1.3.0\n",
      "xmltodict                          0.12.0\n",
      "yapf                               0.31.0\n",
      "zict                               2.0.0\n",
      "zipp                               3.4.1\n",
      "zope.event                         4.5.0\n",
      "zope.interface                     5.3.0\n"
     ]
    }
   ],
   "source": [
    "!pip list"
   ]
  },
  {
   "cell_type": "code",
   "execution_count": 34,
   "id": "0fd5084f-f744-4d88-bfa2-0c656089ed79",
   "metadata": {},
   "outputs": [
    {
     "name": "stdout",
     "output_type": "stream",
     "text": [
      "Name: shap\n",
      "Version: 0.44.0\n",
      "Summary: A unified approach to explain the output of any machine learning model.\n",
      "Home-page: None\n",
      "Author: None\n",
      "Author-email: Scott Lundberg <slund1@cs.washington.edu>\n",
      "License: MIT License\n",
      "Location: c:\\users\\user\\anaconda3\\lib\\site-packages\n",
      "Requires: scipy, slicer, scikit-learn, numba, numpy, pandas, cloudpickle, tqdm, packaging\n",
      "Required-by: \n"
     ]
    }
   ],
   "source": [
    "!pip show shap"
   ]
  },
  {
   "cell_type": "code",
   "execution_count": 35,
   "id": "070da646-44fa-4e8a-8a60-2e88df243cf2",
   "metadata": {},
   "outputs": [
    {
     "name": "stdout",
     "output_type": "stream",
     "text": [
      "Requirement already satisfied: shap in c:\\users\\user\\anaconda3\\lib\\site-packages (0.44.0)\n",
      "Requirement already satisfied: numpy in c:\\users\\user\\anaconda3\\lib\\site-packages (from shap) (1.20.1)\n",
      "Requirement already satisfied: slicer==0.0.7 in c:\\users\\user\\anaconda3\\lib\\site-packages (from shap) (0.0.7)\n",
      "Requirement already satisfied: pandas in c:\\users\\user\\anaconda3\\lib\\site-packages (from shap) (1.2.4)\n",
      "Requirement already satisfied: scikit-learn in c:\\users\\user\\anaconda3\\lib\\site-packages (from shap) (0.24.1)\n",
      "Requirement already satisfied: cloudpickle in c:\\users\\user\\anaconda3\\lib\\site-packages (from shap) (1.6.0)\n",
      "Requirement already satisfied: numba in c:\\users\\user\\anaconda3\\lib\\site-packages (from shap) (0.53.1)\n",
      "Requirement already satisfied: tqdm>=4.27.0 in c:\\users\\user\\anaconda3\\lib\\site-packages (from shap) (4.59.0)\n",
      "Requirement already satisfied: scipy in c:\\users\\user\\anaconda3\\lib\\site-packages (from shap) (1.6.2)\n",
      "Requirement already satisfied: packaging>20.9 in c:\\users\\user\\anaconda3\\lib\\site-packages (from shap) (23.2)\n",
      "Requirement already satisfied: llvmlite<0.37,>=0.36.0rc1 in c:\\users\\user\\anaconda3\\lib\\site-packages (from numba->shap) (0.36.0)\n",
      "Requirement already satisfied: setuptools in c:\\users\\user\\anaconda3\\lib\\site-packages (from numba->shap) (52.0.0.post20210125)\n",
      "Requirement already satisfied: pytz>=2017.3 in c:\\users\\user\\anaconda3\\lib\\site-packages (from pandas->shap) (2021.1)\n",
      "Requirement already satisfied: python-dateutil>=2.7.3 in c:\\users\\user\\anaconda3\\lib\\site-packages (from pandas->shap) (2.8.1)\n",
      "Requirement already satisfied: six>=1.5 in c:\\users\\user\\anaconda3\\lib\\site-packages (from python-dateutil>=2.7.3->pandas->shap) (1.15.0)\n",
      "Requirement already satisfied: joblib>=0.11 in c:\\users\\user\\anaconda3\\lib\\site-packages (from scikit-learn->shap) (1.0.1)\n",
      "Requirement already satisfied: threadpoolctl>=2.0.0 in c:\\users\\user\\anaconda3\\lib\\site-packages (from scikit-learn->shap) (2.1.0)\n"
     ]
    }
   ],
   "source": [
    "!pip install shap"
   ]
  },
  {
   "cell_type": "code",
   "execution_count": 36,
   "id": "d927c2f0-277d-4159-84ea-a1eb069d4830",
   "metadata": {},
   "outputs": [
    {
     "name": "stdout",
     "output_type": "stream",
     "text": [
      "Name: shap\n",
      "Version: 0.44.0\n",
      "Summary: A unified approach to explain the output of any machine learning model.\n",
      "Home-page: None\n",
      "Author: None\n",
      "Author-email: Scott Lundberg <slund1@cs.washington.edu>\n",
      "License: MIT License\n",
      "Location: c:\\users\\user\\anaconda3\\lib\\site-packages\n",
      "Requires: packaging, scikit-learn, pandas, cloudpickle, tqdm, slicer, scipy, numba, numpy\n",
      "Required-by: \n"
     ]
    }
   ],
   "source": [
    "!pip show shap"
   ]
  },
  {
   "cell_type": "code",
   "execution_count": 88,
   "id": "e15c1904-8bc7-4e03-9b02-428f21c601a7",
   "metadata": {},
   "outputs": [],
   "source": [
    "#Importing libraries\n",
    "import shap\n",
    "from sklearn.ensemble import RandomForestRegressor"
   ]
  },
  {
   "cell_type": "markdown",
   "id": "784b0d40-45a6-4995-8f97-333b90275e85",
   "metadata": {},
   "source": [
    "# Selection Of Model For Feature Seclection"
   ]
  },
  {
   "cell_type": "code",
   "execution_count": 89,
   "id": "496c2b68-49f3-486b-980b-39528fafed16",
   "metadata": {},
   "outputs": [],
   "source": [
    "# Creating the model\n",
    "model = RandomForestRegressor()"
   ]
  },
  {
   "cell_type": "markdown",
   "id": "51789dd6-8d18-4a3a-80ed-bc0dd4e1e5fc",
   "metadata": {},
   "source": [
    "# Fitting the Model"
   ]
  },
  {
   "cell_type": "code",
   "execution_count": 90,
   "id": "07bc8765-878c-4305-b1dd-5a1658d462fd",
   "metadata": {},
   "outputs": [
    {
     "data": {
      "text/plain": [
       "RandomForestRegressor()"
      ]
     },
     "execution_count": 90,
     "metadata": {},
     "output_type": "execute_result"
    }
   ],
   "source": [
    "# Fitting the model to the training data\n",
    "model.fit(X_train, y_train)"
   ]
  },
  {
   "cell_type": "markdown",
   "id": "1317fca3-e80b-456c-b29c-be9d0a70ae9d",
   "metadata": {},
   "source": [
    "# Explainer Object"
   ]
  },
  {
   "cell_type": "code",
   "execution_count": 91,
   "id": "de66c2da-908d-48c9-925a-c172cb7e571c",
   "metadata": {},
   "outputs": [],
   "source": [
    "# Creating an explainer object\n",
    "explainer = shap.Explainer(model)"
   ]
  },
  {
   "cell_type": "markdown",
   "id": "de70e56d-f85a-4254-b5d5-cb5d882c59cf",
   "metadata": {},
   "source": [
    "# Computing SHAP Values For All Features"
   ]
  },
  {
   "cell_type": "code",
   "execution_count": 92,
   "id": "c7b4fd47-92ce-4b56-949c-b3bdaa1b4423",
   "metadata": {},
   "outputs": [],
   "source": [
    "# Computing SHAP values for all features\n",
    "shap_values = explainer(X_train)"
   ]
  },
  {
   "cell_type": "markdown",
   "id": "311db9da-24bf-41ec-afc1-aa4f5789c2f3",
   "metadata": {},
   "source": [
    "# Saving the plot"
   ]
  },
  {
   "cell_type": "code",
   "execution_count": 95,
   "id": "72e30daa-f365-4394-8b18-206b64a6948a",
   "metadata": {},
   "outputs": [
    {
     "data": {
      "image/png": "[encoded data removed]",
      "text/plain": [
       "<Figure size 576x280.8 with 2 Axes>"
      ]
     },
     "metadata": {},
     "output_type": "display_data"
    }
   ],
   "source": [
    "# Setting the background of the figure\n",
    "sns.set_style('whitegrid')\n",
    "\n",
    "# Setting the figure size\n",
    "plt.figure(figsize=(12, 10))\n",
    "\n",
    "# Plotting SHAP summary plot\n",
    "shap.summary_plot(shap_values, X_train, show=False)\n",
    "\n",
    "#Setting font style \n",
    "plt.rcParams['font.family'] = 'Times New Roman'\n",
    "\n",
    "#Customising thr appearnace of chart\n",
    "plt.grid(True, linestyle=\":\", linewidth= 0.25)\n",
    "\n",
    "#Setting ticks, label\n",
    "plt.xticks(fontsize=8,weight='bold',fontname='Times New Roman')\n",
    "plt.yticks(fontsize=8,weight='bold',fontname='Times New Roman')\n",
    "plt.xlabel('SHAP values',fontsize=10,weight='bold', fontname='Times New Roman')\n",
    "plt.ylabel('Features',fontsize=10,weight='bold', fontname='Times New Roman')\n",
    "\n",
    "# Saving the plot to a file\n",
    "plt.tight_layout(rect=[0, 0, 1, 0.96])\n",
    "plt.savefig('shap_summary.png', dpi=600, bbox_inches='tight')\n",
    "#Show the plot\n",
    "plt.show()\n",
    "\n",
    "# Closing the plot\n",
    "plt.close()"
   ]
  },
  {
   "cell_type": "markdown",
   "id": "2d6f07cb",
   "metadata": {},
   "source": [
    "# Features importance/ Features ranking"
   ]
  },
  {
   "cell_type": "markdown",
   "id": "1ffe5539",
   "metadata": {},
   "source": [
    "### Library"
   ]
  },
  {
   "cell_type": "code",
   "execution_count": 44,
   "id": "474e2a35",
   "metadata": {},
   "outputs": [],
   "source": [
    "#Importing library\n",
    "from sklearn.feature_selection import SelectFromModel"
   ]
  },
  {
   "cell_type": "markdown",
   "id": "910297b7",
   "metadata": {},
   "source": [
    "### Random Forest"
   ]
  },
  {
   "cell_type": "code",
   "execution_count": 45,
   "id": "f1a5d7b5",
   "metadata": {},
   "outputs": [],
   "source": [
    "#Random forest \n",
    "random_forest = RandomForestClassifier()\n",
    "random_forest.fit(X_train, y_train)\n",
    "random_forest_importances = random_forest.feature_importances_"
   ]
  },
  {
   "cell_type": "markdown",
   "id": "16889800",
   "metadata": {},
   "source": [
    "### Printing feature importance for Random Forest"
   ]
  },
  {
   "cell_type": "code",
   "execution_count": 46,
   "id": "788671ca",
   "metadata": {},
   "outputs": [
    {
     "name": "stdout",
     "output_type": "stream",
     "text": [
      "Feature Importance using Random Forest:\n",
      "Activity: 0.2683746945049787\n",
      "Rest Time: 0.2738684935009116\n",
      "Rest Per Bout: 0.16768250989183828\n",
      "Restlessness Ratio: 0.152533006868922\n",
      "Lactation No: 0.033776003445469015\n",
      "Month Of Sensor Attachment: 0.1037652917878804\n"
     ]
    }
   ],
   "source": [
    "print('Feature Importance using Random Forest:')\n",
    "for feature, importance in zip(X.columns, random_forest_importances):\n",
    "    print(f'{feature}: {importance}')"
   ]
  },
  {
   "cell_type": "markdown",
   "id": "8927df40",
   "metadata": {},
   "source": [
    "### Gradient Boosting"
   ]
  },
  {
   "cell_type": "code",
   "execution_count": 47,
   "id": "012d0b04",
   "metadata": {},
   "outputs": [],
   "source": [
    "#Gradient boosting \n",
    "gradient_boosting = GradientBoostingClassifier()\n",
    "gradient_boosting.fit(X_train, y_train)\n",
    "gradient_boosting_importances = gradient_boosting.feature_importances_"
   ]
  },
  {
   "cell_type": "markdown",
   "id": "13ec1d05",
   "metadata": {},
   "source": [
    "### Printing feature importance for Gradient Boosting"
   ]
  },
  {
   "cell_type": "code",
   "execution_count": 48,
   "id": "f753130c",
   "metadata": {},
   "outputs": [
    {
     "name": "stdout",
     "output_type": "stream",
     "text": [
      "Feature Importance using Gradient Boosting:\n",
      "Activity: 0.4089540457120775\n",
      "Rest Time: 0.3150239320407521\n",
      "Rest Per Bout: 0.12913233836182358\n",
      "Restlessness Ratio: 0.09200340360600559\n",
      "Lactation No: 0.002961631906781882\n",
      "Month Of Sensor Attachment: 0.05192464837255955\n"
     ]
    }
   ],
   "source": [
    "print('Feature Importance using Gradient Boosting:')\n",
    "for feature, importance in zip(X.columns, gradient_boosting_importances):\n",
    "    print(f'{feature}: {importance}')"
   ]
  },
  {
   "cell_type": "markdown",
   "id": "02410cc1",
   "metadata": {},
   "source": [
    "### AdaBoost"
   ]
  },
  {
   "cell_type": "code",
   "execution_count": 49,
   "id": "f1498f30",
   "metadata": {},
   "outputs": [],
   "source": [
    "#AdaBoost\n",
    "adaboost = AdaBoostClassifier()\n",
    "adaboost.fit(X_train, y_train)\n",
    "adaboost_importances = adaboost.feature_importances_"
   ]
  },
  {
   "cell_type": "markdown",
   "id": "226dece5",
   "metadata": {},
   "source": [
    "### Printing feature importance for AdaBoost"
   ]
  },
  {
   "cell_type": "code",
   "execution_count": 50,
   "id": "05b6778e",
   "metadata": {},
   "outputs": [
    {
     "name": "stdout",
     "output_type": "stream",
     "text": [
      "Feature Importance using AdaBoost:\n",
      "Activity: 0.28\n",
      "Rest Time: 0.2\n",
      "Rest Per Bout: 0.36\n",
      "Restlessness Ratio: 0.12\n",
      "Lactation No: 0.02\n",
      "Month Of Sensor Attachment: 0.02\n"
     ]
    }
   ],
   "source": [
    "print('Feature Importance using AdaBoost:')\n",
    "for feature, importance in zip(X.columns, adaboost_importances):\n",
    "    print(f'{feature}: {importance}')"
   ]
  },
  {
   "cell_type": "markdown",
   "id": "16dd7c0c",
   "metadata": {},
   "source": [
    "### Logistic Regression"
   ]
  },
  {
   "cell_type": "code",
   "execution_count": 51,
   "id": "245c3eb2",
   "metadata": {},
   "outputs": [],
   "source": [
    "#Logistic Regression \n",
    "logistic_reg = LogisticRegression()\n",
    "logistic_reg.fit(X_train, y_train)\n",
    "logistic_reg_importances = logistic_reg.coef_[0]"
   ]
  },
  {
   "cell_type": "markdown",
   "id": "610cfe27",
   "metadata": {},
   "source": [
    "### Printing feature importance for Logistic Regression"
   ]
  },
  {
   "cell_type": "code",
   "execution_count": 52,
   "id": "532406c5",
   "metadata": {},
   "outputs": [
    {
     "name": "stdout",
     "output_type": "stream",
     "text": [
      "Feature Importance using Logistic Regression:\n",
      "Activity: 0.009557832160911151\n",
      "Rest Time: 0.00296255859378954\n",
      "Rest Per Bout: -0.027510703160660784\n",
      "Restlessness Ratio: 0.08171060265518298\n",
      "Lactation No: 0.12044244174196075\n",
      "Month Of Sensor Attachment: 0.01188154707908593\n"
     ]
    }
   ],
   "source": [
    "print('Feature Importance using Logistic Regression:')\n",
    "for feature, importance in zip(X.columns, logistic_reg_importances):\n",
    "    print(f'{feature}: {importance}')"
   ]
  },
  {
   "cell_type": "markdown",
   "id": "3eee0698",
   "metadata": {},
   "source": [
    "### K-Nearest Neighbors"
   ]
  },
  {
   "cell_type": "code",
   "execution_count": 53,
   "id": "86652d93",
   "metadata": {},
   "outputs": [],
   "source": [
    "#K-nearest neighbours \n",
    "knn = KNeighborsClassifier()\n",
    "knn.fit(X_train, y_train)\n",
    "knn_importances = [1 / len(X.columns)] * len(X.columns)"
   ]
  },
  {
   "cell_type": "markdown",
   "id": "52764972",
   "metadata": {},
   "source": [
    "### Printing feature importance for K-Nearest Neighbors"
   ]
  },
  {
   "cell_type": "code",
   "execution_count": 54,
   "id": "89f666a9",
   "metadata": {},
   "outputs": [
    {
     "name": "stdout",
     "output_type": "stream",
     "text": [
      "Feature Importance using K Nearest Neighbors (KNN):\n",
      "Activity: 0.16666666666666666\n",
      "Rest Time: 0.16666666666666666\n",
      "Rest Per Bout: 0.16666666666666666\n",
      "Restlessness Ratio: 0.16666666666666666\n",
      "Lactation No: 0.16666666666666666\n",
      "Month Of Sensor Attachment: 0.16666666666666666\n"
     ]
    }
   ],
   "source": [
    "print('Feature Importance using K Nearest Neighbors (KNN):')\n",
    "for feature, importance in zip(X.columns, knn_importances):\n",
    "    print(f'{feature}: {importance}')"
   ]
  },
  {
   "cell_type": "markdown",
   "id": "31de8ca3",
   "metadata": {},
   "source": [
    "### Decision Tree"
   ]
  },
  {
   "cell_type": "code",
   "execution_count": 55,
   "id": "4486d943",
   "metadata": {},
   "outputs": [],
   "source": [
    "#Decision tree\n",
    "decision_tree = DecisionTreeClassifier()\n",
    "decision_tree.fit(X_train, y_train)\n",
    "decision_tree_importances = decision_tree.feature_importances_"
   ]
  },
  {
   "cell_type": "markdown",
   "id": "34332dbb",
   "metadata": {},
   "source": [
    "### Printing feature importance for Decision Tree"
   ]
  },
  {
   "cell_type": "code",
   "execution_count": 56,
   "id": "b3d52e3b",
   "metadata": {},
   "outputs": [
    {
     "name": "stdout",
     "output_type": "stream",
     "text": [
      "Feature Importance using Decision Tree:\n",
      "Activity: 0.3635882369008022\n",
      "Rest Time: 0.2328510779982334\n",
      "Rest Per Bout: 0.14118719405619895\n",
      "Restlessness Ratio: 0.14660625012850015\n",
      "Lactation No: 0.02525115982721094\n",
      "Month Of Sensor Attachment: 0.09051608108905429\n"
     ]
    }
   ],
   "source": [
    "print('Feature Importance using Decision Tree:')\n",
    "for feature, importance in zip(X.columns, decision_tree_importances):\n",
    "    print(f'{feature}: {importance}')"
   ]
  },
  {
   "cell_type": "markdown",
   "id": "bed14217",
   "metadata": {},
   "source": [
    "### Naive Bayes"
   ]
  },
  {
   "cell_type": "code",
   "execution_count": 57,
   "id": "4fc3f31b",
   "metadata": {},
   "outputs": [],
   "source": [
    "#Naive bayes \n",
    "naive_bayes_importances = [1 / len(X.columns)] * len(X.columns)"
   ]
  },
  {
   "cell_type": "markdown",
   "id": "a69ab909",
   "metadata": {},
   "source": [
    "### Printing feature importance for Naive Bayes"
   ]
  },
  {
   "cell_type": "code",
   "execution_count": 58,
   "id": "b553df94",
   "metadata": {},
   "outputs": [
    {
     "name": "stdout",
     "output_type": "stream",
     "text": [
      "Feature Importance using Naive Bayes (GaussianNB):\n",
      "Activity: 0.16666666666666666\n",
      "Rest Time: 0.16666666666666666\n",
      "Rest Per Bout: 0.16666666666666666\n",
      "Restlessness Ratio: 0.16666666666666666\n",
      "Lactation No: 0.16666666666666666\n",
      "Month Of Sensor Attachment: 0.16666666666666666\n"
     ]
    }
   ],
   "source": [
    "print('Feature Importance using Naive Bayes (GaussianNB):')\n",
    "for feature, importance in zip(X.columns, naive_bayes_importances):\n",
    "    print(f'{feature}: {importance}')"
   ]
  },
  {
   "cell_type": "markdown",
   "id": "0143b8ed",
   "metadata": {},
   "source": [
    "### Neural Network (Multilayer Percepton)"
   ]
  },
  {
   "cell_type": "code",
   "execution_count": 59,
   "id": "9c03ece5",
   "metadata": {},
   "outputs": [],
   "source": [
    "#Neural netwrok multilayer perceptron \n",
    "mlp = MLPClassifier()\n",
    "mlp.fit(X_train, y_train)\n",
    "mlp_importances = mlp.coefs_[0].mean(axis=0)"
   ]
  },
  {
   "cell_type": "markdown",
   "id": "15d79483",
   "metadata": {},
   "source": [
    "### Printing feature importance for Neural Network (Multilayer Percepton)"
   ]
  },
  {
   "cell_type": "code",
   "execution_count": 60,
   "id": "f41777b7",
   "metadata": {},
   "outputs": [
    {
     "name": "stdout",
     "output_type": "stream",
     "text": [
      "Feature Importance using Neural Network (Multilayer Perceptron):\n",
      "Activity: 0.07156023909709051\n",
      "Rest Time: 0.037048536800091715\n",
      "Rest Per Bout: 0.13032440387825703\n",
      "Restlessness Ratio: -0.015659125667825218\n",
      "Lactation No: -0.00941722533513666\n",
      "Month Of Sensor Attachment: -0.01613960508398823\n"
     ]
    }
   ],
   "source": [
    "print('Feature Importance using Neural Network (Multilayer Perceptron):')\n",
    "for feature, importance in zip(X.columns, mlp_importances):\n",
    "    print(f'{feature}: {importance}')"
   ]
  },
  {
   "cell_type": "markdown",
   "id": "dcab8656",
   "metadata": {},
   "source": [
    "### Kernel Support Vector Machine (Kernel-SVM)"
   ]
  },
  {
   "cell_type": "code",
   "execution_count": 61,
   "id": "dbe9c2a8",
   "metadata": {},
   "outputs": [],
   "source": [
    "#Kernel support vector machine \n",
    "kernel_svm = SVC(kernel='rbf')\n",
    "kernel_svm.fit(X_train, y_train)\n",
    "kernel_svm_importances = None"
   ]
  },
  {
   "cell_type": "markdown",
   "id": "ce2a58aa",
   "metadata": {},
   "source": [
    "### Printing the developed feature importance for Kernel Support Vector Machine"
   ]
  },
  {
   "cell_type": "code",
   "execution_count": 74,
   "id": "f91d96b3",
   "metadata": {},
   "outputs": [
    {
     "name": "stdout",
     "output_type": "stream",
     "text": [
      "Feature Importance using Kernel Support Vector Machine (K-SVM):\n",
      "K-SVM does not provide direct feature importances\n"
     ]
    }
   ],
   "source": [
    "print('Feature Importance using Kernel Support Vector Machine (K-SVM):')\n",
    "print('K-SVM does not provide direct feature importances')"
   ]
  },
  {
   "cell_type": "markdown",
   "id": "9b54baad",
   "metadata": {},
   "source": [
    "# Validation of developed machine learning algorithms"
   ]
  },
  {
   "cell_type": "markdown",
   "id": "2e58857c",
   "metadata": {},
   "source": [
    "### Libraries"
   ]
  },
  {
   "cell_type": "code",
   "execution_count": 75,
   "id": "e618c153",
   "metadata": {},
   "outputs": [],
   "source": [
    "#Importing libraries\n",
    "from sklearn.model_selection import train_test_split, cross_val_score, StratifiedKFold\n",
    "from sklearn.model_selection import train_test_split, cross_val_score, GridSearchCV\n",
    "from sklearn.ensemble import VotingClassifier\n",
    "from sklearn.metrics import confusion_matrix, accuracy_score"
   ]
  },
  {
   "cell_type": "markdown",
   "id": "f1dc9afc",
   "metadata": {},
   "source": [
    "## Holdout validation"
   ]
  },
  {
   "cell_type": "markdown",
   "id": "7fa81f0c",
   "metadata": {},
   "source": [
    "### Developed algorithms predictions"
   ]
  },
  {
   "cell_type": "code",
   "execution_count": 76,
   "id": "c3083b0d",
   "metadata": {},
   "outputs": [],
   "source": [
    "logistic_reg_predictions = logistic_reg.predict(X_test_scaled)\n",
    "random_forest_predictions = random_forest.predict(X_test_scaled)\n",
    "gradient_boosting_predictions = gradient_boosting.predict(X_test_scaled)\n",
    "svm_predictions = svm.predict(X_test_scaled)\n",
    "knn_predictions = knn.predict(X_test_scaled)\n",
    "decision_tree_predictions = decision_tree.predict(X_test_scaled)\n",
    "naive_bayes_predictions = naive_bayes.predict(X_test_scaled)\n",
    "mlp_predictions = mlp.predict(X_test_scaled)\n",
    "adaboost_predictions = adaboost.predict(X_test_scaled)"
   ]
  },
  {
   "cell_type": "markdown",
   "id": "2aaba526",
   "metadata": {},
   "source": [
    "### Developed algorithms accuracy & scores"
   ]
  },
  {
   "cell_type": "code",
   "execution_count": 77,
   "id": "bd013328",
   "metadata": {},
   "outputs": [],
   "source": [
    "logistic_reg_accuracy = logistic_reg.score(X_test_scaled, y_test)\n",
    "random_forest_accuracy = random_forest.score(X_test_scaled, y_test)\n",
    "gradient_boosting_accuracy = gradient_boosting.score(X_test_scaled, y_test)\n",
    "svm_accuracy = svm.score(X_test_scaled, y_test)\n",
    "knn_accuracy = knn.score(X_test_scaled, y_test)\n",
    "decision_tree_accuracy = decision_tree.score(X_test_scaled, y_test)\n",
    "naive_bayes_accuracy = naive_bayes.score(X_test_scaled, y_test)\n",
    "mlp_accuracy = mlp.score(X_test_scaled, y_test)\n",
    "adaboost_accuracy = adaboost.score(X_test_scaled, y_test)"
   ]
  },
  {
   "cell_type": "markdown",
   "id": "57e342fc",
   "metadata": {},
   "source": [
    "### Printing the results of Holdout validation"
   ]
  },
  {
   "cell_type": "code",
   "execution_count": 78,
   "id": "2af7165f",
   "metadata": {},
   "outputs": [
    {
     "name": "stdout",
     "output_type": "stream",
     "text": [
      "Holdout Validation Results:\n",
      "Logistic Regression Accuracy: 93.83%\n",
      "Random Forest Accuracy: 93.83%\n",
      "Gradient Boosting Accuracy: 93.49%\n",
      "SVM Accuracy: 94.16%\n",
      "KNN Accuracy: 93.83%\n",
      "Decision Tree Accuracy: 6.40%\n",
      "Naive Bayes Accuracy: 92.70%\n",
      "MLP Accuracy: 90.01%\n",
      "AdaBoost Accuracy: 93.83%\n"
     ]
    }
   ],
   "source": [
    "# Printing the developed evalaution metrics\n",
    "print('Holdout Validation Results:')\n",
    "print('Logistic Regression Accuracy: {:.2f}%'.format(logistic_reg_accuracy * 100))\n",
    "print('Random Forest Accuracy: {:.2f}%'.format(random_forest_accuracy * 100))\n",
    "print('Gradient Boosting Accuracy: {:.2f}%'.format(gradient_boosting_accuracy * 100))\n",
    "print('SVM Accuracy: {:.2f}%'.format(svm_accuracy * 100))\n",
    "print('KNN Accuracy: {:.2f}%'.format(knn_accuracy * 100))\n",
    "print('Decision Tree Accuracy: {:.2f}%'.format(decision_tree_accuracy * 100))\n",
    "print('Naive Bayes Accuracy: {:.2f}%'.format(naive_bayes_accuracy * 100))\n",
    "print('MLP Accuracy: {:.2f}%'.format(mlp_accuracy * 100))\n",
    "print('AdaBoost Accuracy: {:.2f}%'.format(adaboost_accuracy * 100))"
   ]
  },
  {
   "cell_type": "markdown",
   "id": "71e56951",
   "metadata": {},
   "source": [
    "## Cross validation"
   ]
  },
  {
   "cell_type": "code",
   "execution_count": 79,
   "id": "5dfbf06f",
   "metadata": {},
   "outputs": [],
   "source": [
    "#Cross Validation tecnique\n",
    "logistic_reg_cv_scores = [\"{:.2f}%\".format(score * 100) for score in cross_val_score(logistic_reg, X, y, cv=5)]\n",
    "random_forest_cv_scores = [\"{:.2f}%\".format(score * 100) for score in cross_val_score(random_forest, X, y, cv=5)]\n",
    "gradient_boosting_cv_scores = [\"{:.2f}%\".format(score * 100) for score in cross_val_score(gradient_boosting, X, y, cv=5)]\n",
    "svm_cv_scores = [\"{:.2f}%\".format(score * 100) for score in cross_val_score(svm, X, y, cv=5)]\n",
    "knn_cv_scores = [\"{:.2f}%\".format(score * 100) for score in cross_val_score(knn, X, y, cv=5)]\n",
    "decision_tree_cv_scores = [\"{:.2f}%\".format(score * 100) for score in cross_val_score(decision_tree, X, y, cv=5)]\n",
    "naive_bayes_cv_scores = [\"{:.2f}%\".format(score * 100) for score in cross_val_score(naive_bayes, X, y, cv=5)]\n",
    "mlp_cv_scores = [\"{:.2f}%\".format(score * 100) for score in cross_val_score(mlp, X, y, cv=5)]\n",
    "adaboost_cv_scores = [\"{:.2f}%\".format(score * 100) for score in cross_val_score(adaboost, X, y, cv=5)]"
   ]
  },
  {
   "cell_type": "markdown",
   "id": "7bc98f85",
   "metadata": {},
   "source": [
    "### Printing the cross validation results"
   ]
  },
  {
   "cell_type": "code",
   "execution_count": 80,
   "id": "542e01e7",
   "metadata": {},
   "outputs": [
    {
     "name": "stdout",
     "output_type": "stream",
     "text": [
      "\n",
      "Cross-Validation Results:\n",
      "Logistic Regression CV Scores: ['93.94%', '93.71%', '94.39%', '93.27%', '93.49%']\n",
      "Random Forest CV Scores: ['93.60%', '94.50%', '93.94%', '93.60%', '93.04%']\n",
      "Gradient Boosting CV Scores: ['92.70%', '93.38%', '93.83%', '93.60%', '92.59%']\n",
      "SVM CV Scores: ['93.71%', '93.60%', '93.49%', '93.38%', '93.71%']\n",
      "KNN CV Scores: ['92.82%', '93.49%', '94.16%', '93.83%', '92.82%']\n",
      "Decision Tree CV Scores: ['89.79%', '90.68%', '90.24%', '89.79%', '90.46%']\n",
      "Naive Bayes CV Scores: ['92.26%', '89.45%', '92.14%', '93.27%', '89.45%']\n",
      "MLP CV Scores: ['93.38%', '93.27%', '93.38%', '90.57%', '93.49%']\n",
      "AdaBoost CV Scores: ['93.94%', '93.15%', '93.83%', '93.15%', '93.04%']\n"
     ]
    }
   ],
   "source": [
    "#Printing the result of cross vaildation\n",
    "print('\\nCross-Validation Results:')\n",
    "print('Logistic Regression CV Scores:', logistic_reg_cv_scores)\n",
    "print('Random Forest CV Scores:', random_forest_cv_scores)\n",
    "print('Gradient Boosting CV Scores:', gradient_boosting_cv_scores)\n",
    "print('SVM CV Scores:', svm_cv_scores)\n",
    "print('KNN CV Scores:', knn_cv_scores)\n",
    "print('Decision Tree CV Scores:', decision_tree_cv_scores)\n",
    "print('Naive Bayes CV Scores:', naive_bayes_cv_scores)\n",
    "print('MLP CV Scores:', mlp_cv_scores)\n",
    "print('AdaBoost CV Scores:', adaboost_cv_scores)"
   ]
  },
  {
   "cell_type": "markdown",
   "id": "0081609e-b074-4359-b6b0-bbd8cc900c4f",
   "metadata": {},
   "source": [
    "# Receiver Operating Characteristic Curve (AUC-ROC)"
   ]
  },
  {
   "cell_type": "markdown",
   "id": "7039e28b-81d7-490a-9af9-686205a43e29",
   "metadata": {},
   "source": [
    "## Libraries"
   ]
  },
  {
   "cell_type": "code",
   "execution_count": 62,
   "id": "6dff50f7-3d3c-4d53-9e2d-c14ee7ed2f7f",
   "metadata": {},
   "outputs": [],
   "source": [
    "#Loading libraries\n",
    "import matplotlib.pyplot as plt\n",
    "from sklearn.model_selection import train_test_split\n",
    "from sklearn.ensemble import RandomForestClassifier, GradientBoostingClassifier\n",
    "from sklearn.tree import DecisionTreeClassifier\n",
    "from sklearn.naive_bayes import GaussianNB\n",
    "from sklearn.neural_network import MLPClassifier\n",
    "from sklearn.metrics import roc_curve, roc_auc_score, auc"
   ]
  },
  {
   "cell_type": "markdown",
   "id": "b2e487b8-d2a7-4021-b26c-c45f251bbf12",
   "metadata": {},
   "source": [
    "## Selection of variables"
   ]
  },
  {
   "cell_type": "code",
   "execution_count": 63,
   "id": "8db591af-66d8-49c0-9ed8-38bd82969cc7",
   "metadata": {},
   "outputs": [],
   "source": [
    "#Selection of variables\n",
    "X = df[['Activity', 'Rest Time', 'Rest Per Bout', 'Restlessness Ratio', 'Lactation No', 'Month Of Sensor Attachment']]\n",
    "y = df['Calved']"
   ]
  },
  {
   "cell_type": "markdown",
   "id": "13a0dc91-b814-4579-b46f-4c8652709aeb",
   "metadata": {},
   "source": [
    "## Data Spliting"
   ]
  },
  {
   "cell_type": "code",
   "execution_count": 64,
   "id": "81f67b94-4661-486e-8d1b-3eddcf2360a9",
   "metadata": {},
   "outputs": [],
   "source": [
    "#Spliting the data set into training and testing\n",
    "X_train, X_test, y_train, y_test = train_test_split(X, y, test_size=0.2, random_state=4455)"
   ]
  },
  {
   "cell_type": "markdown",
   "id": "45a16bad-b8e3-4516-9f85-a2fb90ac0c6b",
   "metadata": {},
   "source": [
    "## Training machine learning models"
   ]
  },
  {
   "cell_type": "code",
   "execution_count": 65,
   "id": "03a03dbb-0200-4d39-9f97-4b5765643ec8",
   "metadata": {},
   "outputs": [
    {
     "data": {
      "text/plain": [
       "MLPClassifier()"
      ]
     },
     "execution_count": 65,
     "metadata": {},
     "output_type": "execute_result"
    }
   ],
   "source": [
    "# Initializing the classifiers\n",
    "rf_classifier = RandomForestClassifier()\n",
    "dt_classifier = DecisionTreeClassifier()\n",
    "gb_classifier = GradientBoostingClassifier()\n",
    "nb_classifier = GaussianNB()\n",
    "nn_classifier = MLPClassifier()\n",
    "\n",
    "# Training the models\n",
    "rf_classifier.fit(X_train, y_train)\n",
    "dt_classifier.fit(X_train, y_train)\n",
    "gb_classifier.fit(X_train, y_train)\n",
    "nb_classifier.fit(X_train, y_train)\n",
    "nn_classifier.fit(X_train, y_train)"
   ]
  },
  {
   "cell_type": "markdown",
   "id": "48d06af8-248d-4fa7-a1d5-09b6a17b583b",
   "metadata": {},
   "source": [
    "## Perdictions and calculation of ROC Curve"
   ]
  },
  {
   "cell_type": "code",
   "execution_count": 66,
   "id": "93dca0bc-ccab-45ea-9b59-705c38dea45c",
   "metadata": {},
   "outputs": [],
   "source": [
    "# Initializing empty dictionaries to store ROC curve data\n",
    "roc_curves = {}\n",
    "\n",
    "# Making predictions and calculate ROC curves for each model\n",
    "classifiers = [\n",
    "    (\"Random Forest\", rf_classifier),\n",
    "    (\"Decision Tree\", dt_classifier),\n",
    "    (\"Gradient Boosting\", gb_classifier),\n",
    "    (\"Naive Bayes\", nb_classifier),\n",
    "    (\"Neural Network\", nn_classifier)\n",
    "]\n",
    "\n",
    "for name, classifier in classifiers:\n",
    "    y_prob = classifier.predict_proba(X_test)[:, 1]  # Probability of the positive class\n",
    "    fpr, tpr, _ = roc_curve(y_test, y_prob)\n",
    "    auc_score = auc(fpr, tpr)\n",
    "    roc_curves[name] = (fpr, tpr, auc_score)\n",
    "\n",
    "#Convert AUC scores to percentages\n",
    "roc_curves_percentage = {name: (fpr, tpr, round(auc_score * 100)) for name, (fpr, tpr, auc_score) in roc_curves.items()}"
   ]
  },
  {
   "cell_type": "markdown",
   "id": "350d22f9-2ef9-4881-a008-7af7b22a5e54",
   "metadata": {},
   "source": [
    "## Ploting ROC Curve"
   ]
  },
  {
   "cell_type": "code",
   "execution_count": 72,
   "id": "28d46575-916e-4cfd-87e5-0626bd2fce84",
   "metadata": {},
   "outputs": [
    {
     "data": {
      "image/png": "[encoded data removed]",
      "text/plain": [
       "<Figure size 864x720 with 1 Axes>"
      ]
     },
     "metadata": {},
     "output_type": "display_data"
    }
   ],
   "source": [
    "# Defining a list of beautiful colors for the curves\n",
    "colors = ['b', 'g', 'r', 'c', 'm']\n",
    "\n",
    "# Setting the figure size\n",
    "plt.figure(figsize=(12, 10))\n",
    "\n",
    "for name, (_, _, auc_score) in roc_curves_percentage.items():\n",
    "    fpr, tpr, _ = roc_curves_percentage[name]\n",
    "    # Using a unique color for each curve\n",
    "    color = colors.pop(0)\n",
    "    plt.plot(fpr, tpr, color, label=f'{name} (AUC = {auc_score}%)')\n",
    "\n",
    "# Removing the upper and left borders of the chart\n",
    "plt.gca().spines['top'].set_visible(False)\n",
    "plt.gca().spines['right'].set_visible(False)\n",
    "\n",
    "#Setting font style \n",
    "plt.rcParams['font.family'] = 'Times New Roman'\n",
    "\n",
    "# Setting the title, label, and ticks for the chart\n",
    "plt.xlabel('False Positive Rate', fontsize=14, weight='bold', fontname='Times New Roman')\n",
    "plt.ylabel('True Positive Rate', fontsize=14, weight='bold', fontname='Times New Roman')\n",
    "plt.xticks(fontsize=12, weight='bold', fontname='Times New Roman')\n",
    "plt.yticks(fontsize=12, weight='bold', fontname='Times New Roman')\n",
    "plt.title('Receiver Operating Characteristic (ROC) Curves', fontsize=14, weight='bold', fontname='Times New Roman')\n",
    "\n",
    "# Customizing the colors of the borders and ticks\n",
    "plt.gca().spines['left'].set_color('gray')\n",
    "plt.gca().spines['bottom'].set_color('gray')\n",
    "plt.gca().xaxis.set_ticks_position('bottom')\n",
    "plt.gca().yaxis.set_ticks_position('left')\n",
    "\n",
    "# Displaying grid for better visualization\n",
    "plt.grid(True, linestyle=':')\n",
    "\n",
    "# Setting the legend outside of the chart\n",
    "plt.legend(loc='center left', bbox_to_anchor=(1, 0.9), prop={'family': 'Times New Roman', 'size': 12}, frameon=False)\n",
    "\n",
    "#Setting the tight layout for chart\n",
    "plt.tight_layout()\n",
    "\n",
    "\n",
    "# Saving the plot\n",
    "plt.tight_layout(rect=[0, 0, 1, 0.96])\n",
    "plt.savefig('roc_chart.png', dpi=600, bbox_inches='tight')\n",
    "\n",
    "# Show the chart\n",
    "plt.show()"
   ]
  },
  {
   "cell_type": "code",
   "execution_count": null,
   "id": "1d3c5411",
   "metadata": {},
   "outputs": [],
   "source": []
  }
 ],
 "metadata": {
  "kernelspec": {
   "display_name": "Python 3",
   "language": "python",
   "name": "python3"
  },
  "language_info": {
   "codemirror_mode": {
    "name": "ipython",
    "version": 3
   },
   "file_extension": ".py",
   "mimetype": "text/x-python",
   "name": "python",
   "nbconvert_exporter": "python",
   "pygments_lexer": "ipython3",
   "version": "3.8.8"
  }
 },
 "nbformat": 4,
 "nbformat_minor": 5
}
